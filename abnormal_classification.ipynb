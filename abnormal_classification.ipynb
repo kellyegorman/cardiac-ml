{
  "cells": [
    {
      "cell_type": "markdown",
      "source": [
        "# Part 1 - Create model for binary classification of normal and abnormal heartbeats\n"
      ],
      "metadata": {
        "id": "1zGHgj-w6APM"
      }
    },
    {
      "cell_type": "code",
      "execution_count": 38,
      "metadata": {
        "id": "u9HBPp0zrOCn"
      },
      "outputs": [],
      "source": [
        "##imports for reading dataframes and splitting\n",
        "import pandas as pd\n",
        "import matplotlib.pyplot as plt\n",
        "import numpy as np\n",
        "from sklearn.model_selection import train_test_split\n",
        "from sklearn.metrics import confusion_matrix\n",
        "\n",
        "#More metrics for models\n",
        "from sklearn.metrics import f1_score\n",
        "from sklearn.metrics import precision_score\n",
        "from sklearn.metrics import recall_score\n",
        "\n",
        "##read dataframes\n",
        "normal = pd.read_csv('/content/drive/MyDrive/Colab_Notebooks/cardio_2/ptbdb_normal.csv', header=None)\n",
        "abnormal = pd.read_csv('/content/drive/MyDrive/Colab_Notebooks/cardio_2/ptbdb_abnormal.csv', header=None)"
      ]
    },
    {
      "cell_type": "markdown",
      "metadata": {
        "id": "bSVDH-1SY3sI"
      },
      "source": [
        "**Concatenate normal and abnormal data, train/test split**"
      ]
    },
    {
      "cell_type": "code",
      "execution_count": 18,
      "metadata": {
        "colab": {
          "base_uri": "https://localhost:8080/"
        },
        "id": "glzjzV_Eul8k",
        "outputId": "6b4a6703-61d4-43a8-a644-d696ab3c6d79"
      },
      "outputs": [
        {
          "output_type": "stream",
          "name": "stdout",
          "text": [
            "Index([      0,       1,       2,       3,       4,       5,       6,       7,\n",
            "             8,       9,\n",
            "       ...\n",
            "           178,     179,     180,     181,     182,     183,     184,     185,\n",
            "           186, 'Label'],\n",
            "      dtype='object', length=188)\n"
          ]
        }
      ],
      "source": [
        "##concatenate dataframes\n",
        "task_1 = pd.concat([normal, abnormal], axis =0, ignore_index=True)\n",
        "task_1 = task_1.rename(columns={187: 'Label'})\n",
        "\n",
        "print(task_1.columns)"
      ]
    },
    {
      "cell_type": "code",
      "execution_count": 19,
      "metadata": {
        "id": "dZgdIY12I_sW"
      },
      "outputs": [],
      "source": [
        "Y_col = 'Label'\n",
        "x = task_1.loc[:, task_1.columns != Y_col].columns\n",
        "\n",
        "##split train and test, separating the label column (intended output)\n",
        "X_train, X_test, y_train, y_test = train_test_split(task_1[x], task_1[Y_col],test_size=0.3, random_state=42)\n"
      ]
    },
    {
      "cell_type": "code",
      "execution_count": 20,
      "metadata": {
        "colab": {
          "base_uri": "https://localhost:8080/"
        },
        "id": "kS5kBDsFsZjL",
        "outputId": "f11bde86-4d47-441f-ef3f-32c71d706149"
      },
      "outputs": [
        {
          "output_type": "execute_result",
          "data": {
            "text/plain": [
              "(10186, 187)"
            ]
          },
          "metadata": {},
          "execution_count": 20
        }
      ],
      "source": [
        "X_train.shape"
      ]
    },
    {
      "cell_type": "code",
      "execution_count": 21,
      "metadata": {
        "id": "IfKlWcR8A3e5"
      },
      "outputs": [],
      "source": [
        "# print(m_train.columns)\n",
        "# print(m_test.columns)"
      ]
    },
    {
      "cell_type": "markdown",
      "metadata": {
        "id": "Z0jDEQRwYxmg"
      },
      "source": [
        "\n",
        "**Logistic regression model**"
      ]
    },
    {
      "cell_type": "code",
      "execution_count": 22,
      "metadata": {
        "id": "uHDkn7DZXeOF"
      },
      "outputs": [],
      "source": [
        "#imports for neural network\n",
        "import torch\n",
        "from sklearn.preprocessing import LabelEncoder\n",
        "from torch import nn\n",
        "from torch.utils.data import DataLoader\n",
        "from torchvision import datasets\n",
        "from torchvision.transforms import ToTensor\n",
        "from torch.utils.data import Dataset, DataLoader, TensorDataset\n",
        "import torch.optim as optim\n",
        "import tqdm\n",
        "import copy\n",
        "\n",
        "#Imports for logistic regression\n",
        "from sklearn.linear_model import LogisticRegression\n",
        "from sklearn.metrics import accuracy_score"
      ]
    },
    {
      "cell_type": "code",
      "source": [
        "# Loop executed to determine random state that yields the best accuracy\n",
        "i = 0\n",
        "maxAcc = 0\n",
        "bestState = 0\n",
        "while i < 100:\n",
        "  reg = LogisticRegression(random_state=i, solver='lbfgs', max_iter=1000)\n",
        "  reg = reg.fit(X_train, y_train)\n",
        "  y_pred = reg.predict(X_test)\n",
        "  acc = accuracy_score(y_test, y_pred)\n",
        "  if acc > maxAcc:\n",
        "    maxAcc = acc\n",
        "    bestState = i\n",
        "  i += 1"
      ],
      "metadata": {
        "id": "ZO1A7it8qLxU"
      },
      "execution_count": 23,
      "outputs": []
    },
    {
      "cell_type": "code",
      "source": [
        "# Logistic regression model using best random state -> 82.04% accurate\n",
        "reg = LogisticRegression(random_state=bestState, solver='lbfgs', max_iter=1000)\n",
        "reg = reg.fit(X_train, y_train)\n",
        "y_pred = reg.predict(X_test)\n",
        "acc = accuracy_score(y_test, y_pred)\n",
        "\n",
        "print('accuracy: ', acc)\n",
        "print('precision: %.2f' % precision_score(y_test, y_pred,average='weighted'))\n",
        "print('recall: %.2f' % recall_score(y_test, y_pred,average='weighted'))\n",
        "print('f1_score: %.2f' % f1_score(y_test, y_pred,average='weighted'))"
      ],
      "metadata": {
        "id": "3yafXYCXsFKz",
        "colab": {
          "base_uri": "https://localhost:8080/"
        },
        "outputId": "a511907d-ffb3-4037-9397-5e6c95c203e1"
      },
      "execution_count": 39,
      "outputs": [
        {
          "output_type": "stream",
          "name": "stdout",
          "text": [
            "accuracy:  0.8365384615384616\n",
            "precision: 0.83\n",
            "recall: 0.84\n",
            "f1_score: 0.83\n"
          ]
        }
      ]
    },
    {
      "cell_type": "code",
      "source": [
        "from sklearn.pipeline import make_pipeline\n",
        "from sklearn.preprocessing import StandardScaler\n",
        "from sklearn import preprocessing\n",
        "\n",
        "#Preprocesses data using StandardScaler class to ensure fits model\n",
        "scaler = preprocessing.StandardScaler().fit(X_train)\n",
        "scaler.mean_\n",
        "scaler.scale_\n",
        "X_scaled = scaler.transform(X_train)\n",
        "pipe = make_pipeline(StandardScaler(), LogisticRegression(max_iter=1000))\n",
        "pipe.fit(X_train, y_train)\n",
        "score = pipe.score(X_test, y_test)\n",
        "print(score)"
      ],
      "metadata": {
        "colab": {
          "base_uri": "https://localhost:8080/"
        },
        "id": "y7mhKcGgqvSQ",
        "outputId": "8167458e-aeb1-43c1-fa1e-418d3e5de71c"
      },
      "execution_count": 25,
      "outputs": [
        {
          "output_type": "stream",
          "name": "stdout",
          "text": [
            "0.8273018781493358\n"
          ]
        }
      ]
    },
    {
      "cell_type": "code",
      "source": [
        "i = 0.10\n",
        "maxTesting = 0\n",
        "bestAcc = 0\n",
        "while i < 0.36:\n",
        "  X_train, X_test, y_train, y_test = train_test_split(task_1[x], task_1[Y_col],test_size=i, random_state=42)\n",
        "  reg = LogisticRegression(random_state=42, solver='lbfgs', max_iter=1000)\n",
        "  reg = reg.fit(X_train, y_train)\n",
        "  y_pred = reg.predict(X_test)\n",
        "  acc = accuracy_score(y_test, y_pred)\n",
        "  if acc > bestAcc:\n",
        "    bestAcc = acc\n",
        "    maxTesting = i\n",
        "  i += 0.01"
      ],
      "metadata": {
        "id": "lRQhbDMkuIpm"
      },
      "execution_count": 26,
      "outputs": []
    },
    {
      "cell_type": "code",
      "source": [
        "# Logistic regression model using best testing proportion -> 83.65% accurate\n",
        "X_train_two, X_test_two, y_train_two, y_test_two = train_test_split(task_1[x], task_1[Y_col],test_size=maxTesting, random_state=42)\n",
        "\n",
        "reg = LogisticRegression(random_state=42, solver='lbfgs', max_iter=1000)\n",
        "reg = reg.fit(X_train_two, y_train_two)\n",
        "y_pred = reg.predict(X_test_two)\n",
        "testingAcc = accuracy_score(y_test_two, y_pred)\n",
        "\n",
        "print(maxTesting)\n",
        "\n",
        "print('accuracy: ', testingAcc)\n",
        "print('precision: %.4f' % precision_score(y_test, y_pred,average='weighted'))\n",
        "print('recall: %.4f' % recall_score(y_test, y_pred,average='weighted'))\n",
        "print('f1_score: %.4f' % f1_score(y_test, y_pred,average='weighted'))"
      ],
      "metadata": {
        "colab": {
          "base_uri": "https://localhost:8080/"
        },
        "id": "P1r2oU-5uwaJ",
        "outputId": "20fb0617-8f83-4d6c-b4ae-38a0ce470665"
      },
      "execution_count": 41,
      "outputs": [
        {
          "output_type": "stream",
          "name": "stdout",
          "text": [
            "0.1\n",
            "accuracy:  0.8365384615384616\n",
            "precision: 0.8306\n",
            "recall: 0.8365\n",
            "f1_score: 0.8316\n"
          ]
        }
      ]
    },
    {
      "cell_type": "code",
      "source": [
        "cm = confusion_matrix(y_test, y_pred)\n",
        "print(\"Confusion matrix for logistic regression:\")\n",
        "print(cm)"
      ],
      "metadata": {
        "colab": {
          "base_uri": "https://localhost:8080/"
        },
        "id": "dqEnaqbtvKaJ",
        "outputId": "9542cbac-bd8f-4804-9220-86ea8be13a43"
      },
      "execution_count": 36,
      "outputs": [
        {
          "output_type": "stream",
          "name": "stdout",
          "text": [
            "Confusion matrix for logistic regression:\n",
            "[[ 359   29]\n",
            " [  11 1057]]\n"
          ]
        }
      ]
    },
    {
      "cell_type": "code",
      "execution_count": 29,
      "metadata": {
        "colab": {
          "base_uri": "https://localhost:8080/"
        },
        "id": "FjJ3ghTh0h11",
        "outputId": "76cf6c67-aed9-45a5-b953-6f27cdf65c38"
      },
      "outputs": [
        {
          "output_type": "stream",
          "name": "stdout",
          "text": [
            "Logistic Regression model accuracy with Random State 0: 82.25363172359638\n",
            "Logistic Regression model accuracy with preprocessing: 82.73018781493357\n",
            "Logistic Regression model accuracy with testing size 0.1: 83.65384615384616\n"
          ]
        }
      ],
      "source": [
        "print(\"Logistic Regression model accuracy with Random State 0:\", acc*100)\n",
        "print(\"Logistic Regression model accuracy with preprocessing:\", score*100)\n",
        "print(\"Logistic Regression model accuracy with testing size 0.1:\", testingAcc*100)"
      ]
    },
    {
      "cell_type": "markdown",
      "source": [
        "\n",
        "\n",
        "**Random Forests**"
      ],
      "metadata": {
        "id": "bkxB3dGmto29"
      }
    },
    {
      "cell_type": "code",
      "execution_count": 42,
      "metadata": {
        "colab": {
          "base_uri": "https://localhost:8080/"
        },
        "id": "WCfO3LDDZNf-",
        "outputId": "b1cf9ab7-5776-465e-ede8-5bec2bf5d910"
      },
      "outputs": [
        {
          "output_type": "stream",
          "name": "stdout",
          "text": [
            "Random forest model accuracy: 0.9725274725274725\n",
            "accuracy:  0.9725274725274725\n",
            "precision: 0.9725\n",
            "recall: 0.9725\n",
            "f1_score: 0.9723\n"
          ]
        }
      ],
      "source": [
        "X_train, X_test, y_train, y_test = train_test_split(task_1[x], task_1[Y_col],test_size=0.10, random_state=42)\n",
        "\n",
        "#imports for RandomForest\n",
        "from sklearn.ensemble import RandomForestClassifier\n",
        "\n",
        "randomForest = RandomForestClassifier(n_estimators=100, random_state=42)\n",
        "randomForest.fit(X_train, y_train)\n",
        "y_pred = randomForest.predict(X_test)\n",
        "\n",
        "accuracy = accuracy_score(y_test, y_pred)\n",
        "print(f\"Random forest model accuracy: {accuracy}\")\n",
        "\n",
        "print('accuracy: ', accuracy)\n",
        "print('precision: %.4f' % precision_score(y_test, y_pred,average='weighted'))\n",
        "print('recall: %.4f' % recall_score(y_test, y_pred,average='weighted'))\n",
        "print('f1_score: %.4f' % f1_score(y_test, y_pred,average='weighted'))"
      ]
    },
    {
      "cell_type": "markdown",
      "source": [
        "**Neural networks**"
      ],
      "metadata": {
        "id": "kp4TErnd2bRs"
      }
    },
    {
      "cell_type": "code",
      "source": [
        "#imports for neural networks\n",
        "import tensorflow as tf"
      ],
      "metadata": {
        "id": "2bOL2g632pel"
      },
      "execution_count": 31,
      "outputs": []
    },
    {
      "cell_type": "code",
      "source": [
        "X_train, X_test, y_train, y_test = train_test_split(task_1[x], task_1[Y_col],test_size=0.10, random_state=42)\n",
        "\n",
        "#Change data and labels to TF tensors - 1D tensor constants\n",
        "X_train = tf.constant(X_train)\n",
        "y_train = tf.constant(y_train)\n",
        "X_test = tf.constant(X_test)\n",
        "y_test = tf.constant(y_test)"
      ],
      "metadata": {
        "id": "6HBayBJ_2a-c"
      },
      "execution_count": 32,
      "outputs": []
    },
    {
      "cell_type": "code",
      "source": [
        "# Create the model\n",
        "model = tf.keras.Sequential([\n",
        "                  tf.keras.layers.Dense(128, activation=\"relu\"),\n",
        "                  tf.keras.layers.Dense(256, activation=\"relu\"),\n",
        "                  tf.keras.layers.Dense(128, activation=\"relu\"),\n",
        "                  tf.keras.layers.Dense(1, activation=\"sigmoid\")\n",
        " ])\n",
        "\n",
        "# Compile the model\n",
        "model.compile(loss=\"binary_crossentropy\",\n",
        "              optimizer=\"Adam\",\n",
        "              metrics=[\"accuracy\"])\n",
        "\n",
        "# Fit the model\n",
        "history = model.fit(X_train, y_train, epochs=50, validation_data=(X_test, y_test), verbose=0)\n",
        "model.evaluate(X_test, y_test)"
      ],
      "metadata": {
        "colab": {
          "base_uri": "https://localhost:8080/"
        },
        "id": "R2wIFC5L25WI",
        "outputId": "ed134d2c-533e-48aa-9c16-cb8a72df1adc"
      },
      "execution_count": 45,
      "outputs": [
        {
          "output_type": "stream",
          "name": "stdout",
          "text": [
            "46/46 [==============================] - 0s 3ms/step - loss: 0.1245 - accuracy: 0.9718\n"
          ]
        },
        {
          "output_type": "execute_result",
          "data": {
            "text/plain": [
              "[0.12448064237833023, 0.9718406796455383]"
            ]
          },
          "metadata": {},
          "execution_count": 45
        }
      ]
    },
    {
      "cell_type": "code",
      "source": [
        "model.summary()\n",
        "\n",
        "from keras import backend as K\n",
        "\n",
        "def recall_m(y_true, y_pred):\n",
        "    true_positives = K.sum(K.round(K.clip(y_true * y_pred, 0, 1)))\n",
        "    possible_positives = K.sum(K.round(K.clip(y_true, 0, 1)))\n",
        "    recall = true_positives / (possible_positives + K.epsilon())\n",
        "    return recall\n",
        "\n",
        "def precision_m(y_true, y_pred):\n",
        "    true_positives = K.sum(K.round(K.clip(y_true * y_pred, 0, 1)))\n",
        "    predicted_positives = K.sum(K.round(K.clip(y_pred, 0, 1)))\n",
        "    precision = true_positives / (predicted_positives + K.epsilon())\n",
        "    return precision\n",
        "\n",
        "def f1_m(y_true, y_pred):\n",
        "    precision = precision_m(y_true, y_pred)\n",
        "    recall = recall_m(y_true, y_pred)\n",
        "    return 2*((precision*recall)/(precision+recall+K.epsilon()))\n",
        "\n",
        "# evaluate the model\n",
        "loss, accuracy, f1_score, precision, recall = model.evaluate(X_test, y_test, verbose=0)\n",
        "print('Accuracy: %f' % accuracy)\n",
        "print('Precision: %f' % precision)\n",
        "print('Recall: %f' % recall)\n",
        "print('F1 score: %f' % f1_score)"
      ],
      "metadata": {
        "colab": {
          "base_uri": "https://localhost:8080/"
        },
        "id": "ecuVCKrX3NEH",
        "outputId": "80157c36-6b1a-4f5b-e272-6da835494c27"
      },
      "execution_count": 48,
      "outputs": [
        {
          "output_type": "stream",
          "name": "stdout",
          "text": [
            "Model: \"sequential_2\"\n",
            "_________________________________________________________________\n",
            " Layer (type)                Output Shape              Param #   \n",
            "=================================================================\n",
            " dense_8 (Dense)             (None, 128)               24064     \n",
            "                                                                 \n",
            " dense_9 (Dense)             (None, 256)               33024     \n",
            "                                                                 \n",
            " dense_10 (Dense)            (None, 128)               32896     \n",
            "                                                                 \n",
            " dense_11 (Dense)            (None, 1)                 129       \n",
            "                                                                 \n",
            "=================================================================\n",
            "Total params: 90113 (352.00 KB)\n",
            "Trainable params: 90113 (352.00 KB)\n",
            "Non-trainable params: 0 (0.00 Byte)\n",
            "_________________________________________________________________\n",
            "Accuracy: 0.971841\n",
            "Precision: 0.985160\n",
            "Recall: 0.976381\n",
            "F1 score: 0.980284\n"
          ]
        }
      ]
    },
    {
      "cell_type": "markdown",
      "source": [
        "Our model has 90113 neurons and 97.60% accuracy. It uses ReLU activation function, binary crossentropy loss function, and Adam optimizer."
      ],
      "metadata": {
        "id": "K2NtNv1R3V_Q"
      }
    },
    {
      "cell_type": "markdown",
      "source": [
        "# Results: Models and Accuracies:\n",
        "\n",
        "\n",
        "*   Logistic Regression w/ preprocessing\n",
        "\n",
        "Accuracy: 82.73%\n",
        "*   Logistic Regression\n",
        "\n",
        "Accuracy: 83.65%\n",
        "*   Random Forest\n",
        "\n",
        "Accuracy: 97.25%\n",
        "*   **Neural network**\n",
        "\n",
        "**Accuracy: 97.60%**\n",
        "\n",
        "\n"
      ],
      "metadata": {
        "id": "eobOdN3F3vws"
      }
    },
    {
      "cell_type": "code",
      "source": [
        "import seaborn as sns\n",
        "import matplotlib.pyplot as plt\n",
        "\n",
        "sns.countplot(x='Label', data=task_1)\n",
        "print(task_1['Label'].value_counts())\n"
      ],
      "metadata": {
        "colab": {
          "base_uri": "https://localhost:8080/",
          "height": 526
        },
        "id": "8Z9MeiU5Iad2",
        "outputId": "f05335be-6f29-489c-9ec0-938cbacd4d0c"
      },
      "execution_count": 35,
      "outputs": [
        {
          "output_type": "stream",
          "name": "stdout",
          "text": [
            "Label\n",
            "1.0    10506\n",
            "0.0     4046\n",
            "Name: count, dtype: int64\n"
          ]
        },
        {
          "output_type": "display_data",
          "data": {
            "text/plain": [
              "<Figure size 640x480 with 1 Axes>"
            ],
            "image/png": "[encoded data removed]"
          },
          "metadata": {}
        }
      ]
    },
    {
      "cell_type": "markdown",
      "source": [
        "Some class imbalance - address by undersampling abnormal?"
      ],
      "metadata": {
        "id": "parPnnRHrM5S"
      }
    }
  ],
  "metadata": {
    "colab": {
      "provenance": []
    },
    "kernelspec": {
      "display_name": "Python 3",
      "name": "python3"
    },
    "language_info": {
      "name": "python"
    }
  },
  "nbformat": 4,
  "nbformat_minor": 0
}
