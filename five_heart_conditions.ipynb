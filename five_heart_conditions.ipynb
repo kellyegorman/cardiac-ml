{
  "nbformat": 4,
  "nbformat_minor": 0,
  "metadata": {
    "colab": {
      "provenance": [],
      "gpuType": "T4"
    },
    "kernelspec": {
      "name": "python3",
      "display_name": "Python 3"
    },
    "language_info": {
      "name": "python"
    },
    "accelerator": "GPU"
  },
  "cells": [
    {
      "cell_type": "markdown",
      "source": [
        "# Task 2 - Create a model to classify various types of heartbeat abnormalities."
      ],
      "metadata": {
        "id": "bA242f9pC3HF"
      }
    },
    {
      "cell_type": "code",
      "execution_count": null,
      "metadata": {
        "id": "OzllJr7H7h-P"
      },
      "outputs": [],
      "source": [
        "import pandas as pd\n",
        "import matplotlib.pyplot as plt\n",
        "import numpy as np\n",
        "from sklearn.model_selection import train_test_split\n",
        "from sklearn.metrics import confusion_matrix\n",
        "from sklearn.metrics import f1_score\n",
        "from sklearn.metrics import precision_score\n",
        "from sklearn.metrics import recall_score\n",
        "\n",
        "training_data = pd.read_csv('/content/drive/MyDrive/Colab_Notebooks/cardio_2/mitbih_train.csv', header=None)\n",
        "test_data = pd.read_csv('/content/drive/MyDrive/Colab_Notebooks/cardio_2/mitbih_test.csv', header=None)"
      ]
    },
    {
      "cell_type": "code",
      "source": [
        "def recall_m(y_true, y_pred):\n",
        "    true_positives = K.sum(K.round(K.clip(y_true * y_pred, 0, 1)))\n",
        "    possible_positives = K.sum(K.round(K.clip(y_true, 0, 1)))\n",
        "    recall = true_positives / (possible_positives + K.epsilon())\n",
        "    return recall\n",
        "\n",
        "def precision_m(y_true, y_pred):\n",
        "    true_positives = K.sum(K.round(K.clip(y_true * y_pred, 0, 1)))\n",
        "    predicted_positives = K.sum(K.round(K.clip(y_pred, 0, 1)))\n",
        "    precision = true_positives / (predicted_positives + K.epsilon())\n",
        "    return precision\n",
        "\n",
        "def f1_m(y_true, y_pred):\n",
        "    precision = precision_m(y_true, y_pred)\n",
        "    recall = recall_m(y_true, y_pred)\n",
        "    return 2*((precision*recall)/(precision+recall+K.epsilon()))\n",
        "\n"
      ],
      "metadata": {
        "id": "1O6JG8kdPpyg"
      },
      "execution_count": null,
      "outputs": []
    },
    {
      "cell_type": "code",
      "source": [
        "print(training_data[187].unique())"
      ],
      "metadata": {
        "id": "LFyQZ03m8hZo",
        "colab": {
          "base_uri": "https://localhost:8080/"
        },
        "outputId": "94b875a0-e56b-4385-879a-3470d6ba52d7"
      },
      "execution_count": null,
      "outputs": [
        {
          "output_type": "stream",
          "name": "stdout",
          "text": [
            "[0. 1. 2. 3. 4.]\n"
          ]
        }
      ]
    },
    {
      "cell_type": "code",
      "source": [
        "print(training_data.shape[0])\n",
        "print(test_data.shape[0])"
      ],
      "metadata": {
        "id": "hzzYdqQfVu56",
        "colab": {
          "base_uri": "https://localhost:8080/"
        },
        "outputId": "886ab049-1a7f-4ead-9be5-253a0e222503"
      },
      "execution_count": null,
      "outputs": [
        {
          "output_type": "stream",
          "name": "stdout",
          "text": [
            "87554\n",
            "21892\n"
          ]
        }
      ]
    },
    {
      "cell_type": "code",
      "source": [
        "training_data = training_data.rename(columns={187: 'Label'})\n",
        "test_data = test_data.rename(columns={187: 'Label'})\n",
        "\n",
        "print(training_data['Label'])\n",
        "print(test_data['Label'])"
      ],
      "metadata": {
        "id": "WNRfI_XLBFA6",
        "colab": {
          "base_uri": "https://localhost:8080/"
        },
        "outputId": "21fa0d31-aa15-4bda-bf7d-74178d327d4e"
      },
      "execution_count": null,
      "outputs": [
        {
          "output_type": "stream",
          "name": "stdout",
          "text": [
            "0        0.0\n",
            "1        0.0\n",
            "2        0.0\n",
            "3        0.0\n",
            "4        0.0\n",
            "        ... \n",
            "87549    4.0\n",
            "87550    4.0\n",
            "87551    4.0\n",
            "87552    4.0\n",
            "87553    4.0\n",
            "Name: Label, Length: 87554, dtype: float64\n",
            "0        0.0\n",
            "1        0.0\n",
            "2        0.0\n",
            "3        0.0\n",
            "4        0.0\n",
            "        ... \n",
            "21887    4.0\n",
            "21888    4.0\n",
            "21889    4.0\n",
            "21890    4.0\n",
            "21891    4.0\n",
            "Name: Label, Length: 21892, dtype: float64\n"
          ]
        }
      ]
    },
    {
      "cell_type": "code",
      "source": [
        "# prompt: add different text to the top of each bar on the histogram\n",
        "\n",
        "import pandas as pd\n",
        "import matplotlib.pyplot as plt\n",
        "import numpy as np\n",
        "from sklearn.model_selection import train_test_split\n",
        "from sklearn.metrics import confusion_matrix\n",
        "from sklearn.metrics import f1_score\n",
        "from sklearn.metrics import precision_score\n",
        "from sklearn.metrics import recall_score\n",
        "\n",
        "print(training_data['Label'].unique())\n",
        "print(training_data.shape[0])\n",
        "print(test_data.shape[0])\n",
        "training_data = training_data.rename(columns={187: 'Label'})\n",
        "test_data = test_data.rename(columns={187: 'Label'})\n",
        "\n",
        "print(training_data['Label'])\n",
        "print(test_data['Label'])\n",
        "\n",
        "# Assuming 'training_data' is your DataFrame and 'Label' is the column with heartbeat types\n",
        "label_counts = training_data['Label'].value_counts()\n",
        "\n",
        "# Create bar plot\n",
        "plt.bar(label_counts.index, label_counts.values)\n",
        "plt.xlabel('Heartbeat Types')\n",
        "plt.ylabel('Count')\n",
        "plt.title('Distribution of Heartbeat Types')\n",
        "\n",
        "# Add text above each bar\n",
        "for i, count in enumerate(label_counts.values):\n",
        "    plt.text(i, count + 500, 'Class ' + str(i), ha='center', va='bottom')  # Adjust position as needed\n",
        "\n",
        "plt.show()\n"
      ],
      "metadata": {
        "colab": {
          "base_uri": "https://localhost:8080/",
          "height": 954
        },
        "id": "k9pv2Cy4Hqke",
        "outputId": "b09a900a-7e1c-480d-b591-9ce9536bc2e1"
      },
      "execution_count": null,
      "outputs": [
        {
          "output_type": "stream",
          "name": "stdout",
          "text": [
            "[0. 1. 2. 3. 4.]\n",
            "87554\n",
            "21892\n",
            "0        0.0\n",
            "1        0.0\n",
            "2        0.0\n",
            "3        0.0\n",
            "4        0.0\n",
            "        ... \n",
            "87549    4.0\n",
            "87550    4.0\n",
            "87551    4.0\n",
            "87552    4.0\n",
            "87553    4.0\n",
            "Name: Label, Length: 87554, dtype: float64\n",
            "0        0.0\n",
            "1        0.0\n",
            "2        0.0\n",
            "3        0.0\n",
            "4        0.0\n",
            "        ... \n",
            "21887    4.0\n",
            "21888    4.0\n",
            "21889    4.0\n",
            "21890    4.0\n",
            "21891    4.0\n",
            "Name: Label, Length: 21892, dtype: float64\n"
          ]
        },
        {
          "output_type": "display_data",
          "data": {
            "text/plain": [
              "<Figure size 640x480 with 1 Axes>"
            ],
            "image/png": "[encoded data removed]"
          },
          "metadata": {}
        }
      ]
    },
    {
      "cell_type": "markdown",
      "source": [
        "**K Nearest Neighbor model for multi-class classification**"
      ],
      "metadata": {
        "id": "10KdxHPXC7oI"
      }
    },
    {
      "cell_type": "code",
      "source": [
        "#imports for k-nearest neighbor\n",
        "from sklearn import preprocessing\n",
        "from sklearn.model_selection import train_test_split\n",
        "from sklearn.neighbors import KNeighborsClassifier\n",
        "import matplotlib.pyplot as plt\n",
        "import seaborn as sns\n",
        "import pandas as pd\n",
        "from sklearn.metrics import classification_report, confusion_matrix, accuracy_score"
      ],
      "metadata": {
        "id": "k7-RibmABWS6"
      },
      "execution_count": null,
      "outputs": []
    },
    {
      "cell_type": "code",
      "source": [
        "#Training data\n",
        "x_train = training_data.drop(['Label'],axis=1)\n",
        "y_train = training_data['Label']\n",
        "\n",
        "#Testing data\n",
        "x_test = test_data.drop(['Label'],axis=1)\n",
        "y_test = test_data['Label']\n",
        "\n",
        "#Preprocessing and fit\n",
        "MinMaxScaler = preprocessing.MinMaxScaler()\n",
        "X_data_minmax = MinMaxScaler.fit_transform(x_train)\n",
        "data = pd.DataFrame(X_data_minmax, columns=x_train.columns)\n",
        "data.head()"
      ],
      "metadata": {
        "id": "TtTpBEKrBZyB",
        "colab": {
          "base_uri": "https://localhost:8080/",
          "height": 236
        },
        "outputId": "23cb17cd-8a05-4480-c844-c21cf5060d16"
      },
      "execution_count": null,
      "outputs": [
        {
          "output_type": "execute_result",
          "data": {
            "text/plain": [
              "        0         1         2         3         4         5         6    \\\n",
              "0  0.977941  0.926471  0.681373  0.245098  0.154412  0.191176  0.151961   \n",
              "1  0.960114  0.863248  0.461538  0.196581  0.094017  0.125356  0.099715   \n",
              "2  1.000000  0.659459  0.186486  0.070270  0.070270  0.059459  0.056757   \n",
              "3  0.925414  0.665746  0.541436  0.276243  0.196133  0.077348  0.071823   \n",
              "4  0.967136  1.000000  0.830986  0.586854  0.356808  0.248826  0.145540   \n",
              "\n",
              "        7         8         9    ...  177  178  179  180  181  182  183  184  \\\n",
              "0  0.085784  0.058824  0.049020  ...  0.0  0.0  0.0  0.0  0.0  0.0  0.0  0.0   \n",
              "1  0.088319  0.074074  0.082621  ...  0.0  0.0  0.0  0.0  0.0  0.0  0.0  0.0   \n",
              "2  0.043243  0.054054  0.045946  ...  0.0  0.0  0.0  0.0  0.0  0.0  0.0  0.0   \n",
              "3  0.060773  0.066298  0.058011  ...  0.0  0.0  0.0  0.0  0.0  0.0  0.0  0.0   \n",
              "4  0.089202  0.117371  0.150235  ...  0.0  0.0  0.0  0.0  0.0  0.0  0.0  0.0   \n",
              "\n",
              "   185  186  \n",
              "0  0.0  0.0  \n",
              "1  0.0  0.0  \n",
              "2  0.0  0.0  \n",
              "3  0.0  0.0  \n",
              "4  0.0  0.0  \n",
              "\n",
              "[5 rows x 187 columns]"
            ],
            "text/html": [
              "\n",
              "  <div id=\"df-cff85f4c-af7e-4e80-96c0-e9959acb3655\" class=\"colab-df-container\">\n",
              "    <div>\n",
              "<style scoped>\n",
              "    .dataframe tbody tr th:only-of-type {\n",
              "        vertical-align: middle;\n",
              "    }\n",
              "\n",
              "    .dataframe tbody tr th {\n",
              "        vertical-align: top;\n",
              "    }\n",
              "\n",
              "    .dataframe thead th {\n",
              "        text-align: right;\n",
              "    }\n",
              "</style>\n",
              "<table border=\"1\" class=\"dataframe\">\n",
              "  <thead>\n",
              "    <tr style=\"text-align: right;\">\n",
              "      <th></th>\n",
              "      <th>0</th>\n",
              "      <th>1</th>\n",
              "      <th>2</th>\n",
              "      <th>3</th>\n",
              "      <th>4</th>\n",
              "      <th>5</th>\n",
              "      <th>6</th>\n",
              "      <th>7</th>\n",
              "      <th>8</th>\n",
              "      <th>9</th>\n",
              "      <th>...</th>\n",
              "      <th>177</th>\n",
              "      <th>178</th>\n",
              "      <th>179</th>\n",
              "      <th>180</th>\n",
              "      <th>181</th>\n",
              "      <th>182</th>\n",
              "      <th>183</th>\n",
              "      <th>184</th>\n",
              "      <th>185</th>\n",
              "      <th>186</th>\n",
              "    </tr>\n",
              "  </thead>\n",
              "  <tbody>\n",
              "    <tr>\n",
              "      <th>0</th>\n",
              "      <td>0.977941</td>\n",
              "      <td>0.926471</td>\n",
              "      <td>0.681373</td>\n",
              "      <td>0.245098</td>\n",
              "      <td>0.154412</td>\n",
              "      <td>0.191176</td>\n",
              "      <td>0.151961</td>\n",
              "      <td>0.085784</td>\n",
              "      <td>0.058824</td>\n",
              "      <td>0.049020</td>\n",
              "      <td>...</td>\n",
              "      <td>0.0</td>\n",
              "      <td>0.0</td>\n",
              "      <td>0.0</td>\n",
              "      <td>0.0</td>\n",
              "      <td>0.0</td>\n",
              "      <td>0.0</td>\n",
              "      <td>0.0</td>\n",
              "      <td>0.0</td>\n",
              "      <td>0.0</td>\n",
              "      <td>0.0</td>\n",
              "    </tr>\n",
              "    <tr>\n",
              "      <th>1</th>\n",
              "      <td>0.960114</td>\n",
              "      <td>0.863248</td>\n",
              "      <td>0.461538</td>\n",
              "      <td>0.196581</td>\n",
              "      <td>0.094017</td>\n",
              "      <td>0.125356</td>\n",
              "      <td>0.099715</td>\n",
              "      <td>0.088319</td>\n",
              "      <td>0.074074</td>\n",
              "      <td>0.082621</td>\n",
              "      <td>...</td>\n",
              "      <td>0.0</td>\n",
              "      <td>0.0</td>\n",
              "      <td>0.0</td>\n",
              "      <td>0.0</td>\n",
              "      <td>0.0</td>\n",
              "      <td>0.0</td>\n",
              "      <td>0.0</td>\n",
              "      <td>0.0</td>\n",
              "      <td>0.0</td>\n",
              "      <td>0.0</td>\n",
              "    </tr>\n",
              "    <tr>\n",
              "      <th>2</th>\n",
              "      <td>1.000000</td>\n",
              "      <td>0.659459</td>\n",
              "      <td>0.186486</td>\n",
              "      <td>0.070270</td>\n",
              "      <td>0.070270</td>\n",
              "      <td>0.059459</td>\n",
              "      <td>0.056757</td>\n",
              "      <td>0.043243</td>\n",
              "      <td>0.054054</td>\n",
              "      <td>0.045946</td>\n",
              "      <td>...</td>\n",
              "      <td>0.0</td>\n",
              "      <td>0.0</td>\n",
              "      <td>0.0</td>\n",
              "      <td>0.0</td>\n",
              "      <td>0.0</td>\n",
              "      <td>0.0</td>\n",
              "      <td>0.0</td>\n",
              "      <td>0.0</td>\n",
              "      <td>0.0</td>\n",
              "      <td>0.0</td>\n",
              "    </tr>\n",
              "    <tr>\n",
              "      <th>3</th>\n",
              "      <td>0.925414</td>\n",
              "      <td>0.665746</td>\n",
              "      <td>0.541436</td>\n",
              "      <td>0.276243</td>\n",
              "      <td>0.196133</td>\n",
              "      <td>0.077348</td>\n",
              "      <td>0.071823</td>\n",
              "      <td>0.060773</td>\n",
              "      <td>0.066298</td>\n",
              "      <td>0.058011</td>\n",
              "      <td>...</td>\n",
              "      <td>0.0</td>\n",
              "      <td>0.0</td>\n",
              "      <td>0.0</td>\n",
              "      <td>0.0</td>\n",
              "      <td>0.0</td>\n",
              "      <td>0.0</td>\n",
              "      <td>0.0</td>\n",
              "      <td>0.0</td>\n",
              "      <td>0.0</td>\n",
              "      <td>0.0</td>\n",
              "    </tr>\n",
              "    <tr>\n",
              "      <th>4</th>\n",
              "      <td>0.967136</td>\n",
              "      <td>1.000000</td>\n",
              "      <td>0.830986</td>\n",
              "      <td>0.586854</td>\n",
              "      <td>0.356808</td>\n",
              "      <td>0.248826</td>\n",
              "      <td>0.145540</td>\n",
              "      <td>0.089202</td>\n",
              "      <td>0.117371</td>\n",
              "      <td>0.150235</td>\n",
              "      <td>...</td>\n",
              "      <td>0.0</td>\n",
              "      <td>0.0</td>\n",
              "      <td>0.0</td>\n",
              "      <td>0.0</td>\n",
              "      <td>0.0</td>\n",
              "      <td>0.0</td>\n",
              "      <td>0.0</td>\n",
              "      <td>0.0</td>\n",
              "      <td>0.0</td>\n",
              "      <td>0.0</td>\n",
              "    </tr>\n",
              "  </tbody>\n",
              "</table>\n",
              "<p>5 rows × 187 columns</p>\n",
              "</div>\n",
              "    <div class=\"colab-df-buttons\">\n",
              "\n",
              "  <div class=\"colab-df-container\">\n",
              "    <button class=\"colab-df-convert\" onclick=\"convertToInteractive('df-cff85f4c-af7e-4e80-96c0-e9959acb3655')\"\n",
              "            title=\"Convert this dataframe to an interactive table.\"\n",
              "            style=\"display:none;\">\n",
              "\n",
              "  <svg xmlns=\"http://www.w3.org/2000/svg\" height=\"24px\" viewBox=\"0 -960 960 960\">\n",
              "    <path d=\"M120-120v-720h720v720H120Zm60-500h600v-160H180v160Zm220 220h160v-160H400v160Zm0 220h160v-160H400v160ZM180-400h160v-160H180v160Zm440 0h160v-160H620v160ZM180-180h160v-160H180v160Zm440 0h160v-160H620v160Z\"/>\n",
              "  </svg>\n",
              "    </button>\n",
              "\n",
              "  <style>\n",
              "    .colab-df-container {\n",
              "      display:flex;\n",
              "      gap: 12px;\n",
              "    }\n",
              "\n",
              "    .colab-df-convert {\n",
              "      background-color: #E8F0FE;\n",
              "      border: none;\n",
              "      border-radius: 50%;\n",
              "      cursor: pointer;\n",
              "      display: none;\n",
              "      fill: #1967D2;\n",
              "      height: 32px;\n",
              "      padding: 0 0 0 0;\n",
              "      width: 32px;\n",
              "    }\n",
              "\n",
              "    .colab-df-convert:hover {\n",
              "      background-color: #E2EBFA;\n",
              "      box-shadow: 0px 1px 2px rgba(60, 64, 67, 0.3), 0px 1px 3px 1px rgba(60, 64, 67, 0.15);\n",
              "      fill: #174EA6;\n",
              "    }\n",
              "\n",
              "    .colab-df-buttons div {\n",
              "      margin-bottom: 4px;\n",
              "    }\n",
              "\n",
              "    [theme=dark] .colab-df-convert {\n",
              "      background-color: #3B4455;\n",
              "      fill: #D2E3FC;\n",
              "    }\n",
              "\n",
              "    [theme=dark] .colab-df-convert:hover {\n",
              "      background-color: #434B5C;\n",
              "      box-shadow: 0px 1px 3px 1px rgba(0, 0, 0, 0.15);\n",
              "      filter: drop-shadow(0px 1px 2px rgba(0, 0, 0, 0.3));\n",
              "      fill: #FFFFFF;\n",
              "    }\n",
              "  </style>\n",
              "\n",
              "    <script>\n",
              "      const buttonEl =\n",
              "        document.querySelector('#df-cff85f4c-af7e-4e80-96c0-e9959acb3655 button.colab-df-convert');\n",
              "      buttonEl.style.display =\n",
              "        google.colab.kernel.accessAllowed ? 'block' : 'none';\n",
              "\n",
              "      async function convertToInteractive(key) {\n",
              "        const element = document.querySelector('#df-cff85f4c-af7e-4e80-96c0-e9959acb3655');\n",
              "        const dataTable =\n",
              "          await google.colab.kernel.invokeFunction('convertToInteractive',\n",
              "                                                    [key], {});\n",
              "        if (!dataTable) return;\n",
              "\n",
              "        const docLinkHtml = 'Like what you see? Visit the ' +\n",
              "          '<a target=\"_blank\" href=https://colab.research.google.com/notebooks/data_table.ipynb>data table notebook</a>'\n",
              "          + ' to learn more about interactive tables.';\n",
              "        element.innerHTML = '';\n",
              "        dataTable['output_type'] = 'display_data';\n",
              "        await google.colab.output.renderOutput(dataTable, element);\n",
              "        const docLink = document.createElement('div');\n",
              "        docLink.innerHTML = docLinkHtml;\n",
              "        element.appendChild(docLink);\n",
              "      }\n",
              "    </script>\n",
              "  </div>\n",
              "\n",
              "\n",
              "<div id=\"df-7d6ca51e-03f9-448c-8a7e-e8ffb9e0d2c4\">\n",
              "  <button class=\"colab-df-quickchart\" onclick=\"quickchart('df-7d6ca51e-03f9-448c-8a7e-e8ffb9e0d2c4')\"\n",
              "            title=\"Suggest charts\"\n",
              "            style=\"display:none;\">\n",
              "\n",
              "<svg xmlns=\"http://www.w3.org/2000/svg\" height=\"24px\"viewBox=\"0 0 24 24\"\n",
              "     width=\"24px\">\n",
              "    <g>\n",
              "        <path d=\"M19 3H5c-1.1 0-2 .9-2 2v14c0 1.1.9 2 2 2h14c1.1 0 2-.9 2-2V5c0-1.1-.9-2-2-2zM9 17H7v-7h2v7zm4 0h-2V7h2v10zm4 0h-2v-4h2v4z\"/>\n",
              "    </g>\n",
              "</svg>\n",
              "  </button>\n",
              "\n",
              "<style>\n",
              "  .colab-df-quickchart {\n",
              "      --bg-color: #E8F0FE;\n",
              "      --fill-color: #1967D2;\n",
              "      --hover-bg-color: #E2EBFA;\n",
              "      --hover-fill-color: #174EA6;\n",
              "      --disabled-fill-color: #AAA;\n",
              "      --disabled-bg-color: #DDD;\n",
              "  }\n",
              "\n",
              "  [theme=dark] .colab-df-quickchart {\n",
              "      --bg-color: #3B4455;\n",
              "      --fill-color: #D2E3FC;\n",
              "      --hover-bg-color: #434B5C;\n",
              "      --hover-fill-color: #FFFFFF;\n",
              "      --disabled-bg-color: #3B4455;\n",
              "      --disabled-fill-color: #666;\n",
              "  }\n",
              "\n",
              "  .colab-df-quickchart {\n",
              "    background-color: var(--bg-color);\n",
              "    border: none;\n",
              "    border-radius: 50%;\n",
              "    cursor: pointer;\n",
              "    display: none;\n",
              "    fill: var(--fill-color);\n",
              "    height: 32px;\n",
              "    padding: 0;\n",
              "    width: 32px;\n",
              "  }\n",
              "\n",
              "  .colab-df-quickchart:hover {\n",
              "    background-color: var(--hover-bg-color);\n",
              "    box-shadow: 0 1px 2px rgba(60, 64, 67, 0.3), 0 1px 3px 1px rgba(60, 64, 67, 0.15);\n",
              "    fill: var(--button-hover-fill-color);\n",
              "  }\n",
              "\n",
              "  .colab-df-quickchart-complete:disabled,\n",
              "  .colab-df-quickchart-complete:disabled:hover {\n",
              "    background-color: var(--disabled-bg-color);\n",
              "    fill: var(--disabled-fill-color);\n",
              "    box-shadow: none;\n",
              "  }\n",
              "\n",
              "  .colab-df-spinner {\n",
              "    border: 2px solid var(--fill-color);\n",
              "    border-color: transparent;\n",
              "    border-bottom-color: var(--fill-color);\n",
              "    animation:\n",
              "      spin 1s steps(1) infinite;\n",
              "  }\n",
              "\n",
              "  @keyframes spin {\n",
              "    0% {\n",
              "      border-color: transparent;\n",
              "      border-bottom-color: var(--fill-color);\n",
              "      border-left-color: var(--fill-color);\n",
              "    }\n",
              "    20% {\n",
              "      border-color: transparent;\n",
              "      border-left-color: var(--fill-color);\n",
              "      border-top-color: var(--fill-color);\n",
              "    }\n",
              "    30% {\n",
              "      border-color: transparent;\n",
              "      border-left-color: var(--fill-color);\n",
              "      border-top-color: var(--fill-color);\n",
              "      border-right-color: var(--fill-color);\n",
              "    }\n",
              "    40% {\n",
              "      border-color: transparent;\n",
              "      border-right-color: var(--fill-color);\n",
              "      border-top-color: var(--fill-color);\n",
              "    }\n",
              "    60% {\n",
              "      border-color: transparent;\n",
              "      border-right-color: var(--fill-color);\n",
              "    }\n",
              "    80% {\n",
              "      border-color: transparent;\n",
              "      border-right-color: var(--fill-color);\n",
              "      border-bottom-color: var(--fill-color);\n",
              "    }\n",
              "    90% {\n",
              "      border-color: transparent;\n",
              "      border-bottom-color: var(--fill-color);\n",
              "    }\n",
              "  }\n",
              "</style>\n",
              "\n",
              "  <script>\n",
              "    async function quickchart(key) {\n",
              "      const quickchartButtonEl =\n",
              "        document.querySelector('#' + key + ' button');\n",
              "      quickchartButtonEl.disabled = true;  // To prevent multiple clicks.\n",
              "      quickchartButtonEl.classList.add('colab-df-spinner');\n",
              "      try {\n",
              "        const charts = await google.colab.kernel.invokeFunction(\n",
              "            'suggestCharts', [key], {});\n",
              "      } catch (error) {\n",
              "        console.error('Error during call to suggestCharts:', error);\n",
              "      }\n",
              "      quickchartButtonEl.classList.remove('colab-df-spinner');\n",
              "      quickchartButtonEl.classList.add('colab-df-quickchart-complete');\n",
              "    }\n",
              "    (() => {\n",
              "      let quickchartButtonEl =\n",
              "        document.querySelector('#df-7d6ca51e-03f9-448c-8a7e-e8ffb9e0d2c4 button');\n",
              "      quickchartButtonEl.style.display =\n",
              "        google.colab.kernel.accessAllowed ? 'block' : 'none';\n",
              "    })();\n",
              "  </script>\n",
              "</div>\n",
              "\n",
              "    </div>\n",
              "  </div>\n"
            ],
            "application/vnd.google.colaboratory.intrinsic+json": {
              "type": "dataframe",
              "variable_name": "data"
            }
          },
          "metadata": {},
          "execution_count": 8
        }
      ]
    },
    {
      "cell_type": "code",
      "source": [
        "#Use sklearn algorithm to conduct k-nearest neighbor training\n",
        "knn_clf = KNeighborsClassifier()\n",
        "knn_clf = knn_clf.fit(x_train, y_train)\n",
        "y_pred = knn_clf.predict(x_test)"
      ],
      "metadata": {
        "id": "aVgAZwjkBgqL"
      },
      "execution_count": null,
      "outputs": []
    },
    {
      "cell_type": "code",
      "source": [
        "result = confusion_matrix(y_test, y_pred)\n",
        "print('Confusion Matrix:')\n",
        "print(result)\n",
        "result1 = classification_report(y_test, y_pred)\n",
        "print('Classification Report:',)\n",
        "print (result1)\n",
        "result2 = accuracy_score(y_test,y_pred)\n",
        "\n",
        "print('accuracy: ', result2)\n",
        "print('precision: %.4f' % precision_score(y_test, y_pred,average='weighted'))\n",
        "print('recall: %.4f' % recall_score(y_test, y_pred,average='weighted'))\n",
        "print('f1_score: %.4f' % f1_score(y_test, y_pred,average='weighted'))"
      ],
      "metadata": {
        "id": "adGFVLnBBj0O",
        "colab": {
          "base_uri": "https://localhost:8080/"
        },
        "outputId": "23559908-82c7-44c4-e98c-5cb7160857f1"
      },
      "execution_count": null,
      "outputs": [
        {
          "output_type": "stream",
          "name": "stdout",
          "text": [
            "Confusion Matrix:\n",
            "[[18021    38    45     9     5]\n",
            " [  186   357    13     0     0]\n",
            " [  113     3  1305    23     4]\n",
            " [   43     0    16   103     0]\n",
            " [   69     0    10     0  1529]]\n",
            "Classification Report:\n",
            "              precision    recall  f1-score   support\n",
            "\n",
            "         0.0       0.98      0.99      0.99     18118\n",
            "         1.0       0.90      0.64      0.75       556\n",
            "         2.0       0.94      0.90      0.92      1448\n",
            "         3.0       0.76      0.64      0.69       162\n",
            "         4.0       0.99      0.95      0.97      1608\n",
            "\n",
            "    accuracy                           0.97     21892\n",
            "   macro avg       0.91      0.82      0.86     21892\n",
            "weighted avg       0.97      0.97      0.97     21892\n",
            "\n",
            "accuracy:  0.9736433400328888\n",
            "precision: 0.9727\n",
            "recall: 0.9736\n",
            "f1_score: 0.9725\n"
          ]
        }
      ]
    },
    {
      "cell_type": "code",
      "source": [
        "countNorm = (training_data['Label']==0).sum()\n",
        "countOne = (training_data['Label']==1).sum()\n",
        "countTwo = (training_data['Label']==2).sum()\n",
        "countThree = (training_data['Label']==3).sum()\n",
        "countFour = (training_data['Label']==4).sum()\n",
        "countTotal = training_data.shape[0]\n",
        "print(countTotal)\n",
        "\n",
        "print(\"Normal heartbeats:    \", countNorm)\n",
        "print(\"SV ectopic (1):       \", countOne)\n",
        "print(\"Ventricle ectopic (2):\", countTwo)\n",
        "print(\"Fusion ectopic (3):   \", countThree)\n",
        "print(\"Unknown (4):          \", countFour)\n",
        "print('------')\n",
        "print(\"% Normal:\", countNorm/countTotal)\n",
        "print(\"% Type 1:\", countOne/countTotal)\n",
        "print(\"% Type 2:\", countTwo/countTotal)\n",
        "print(\"% Type 3:\", countThree/countTotal)\n",
        "print(\"% Type 4:\", countFour/countTotal)"
      ],
      "metadata": {
        "id": "0GrX4AneBmGn",
        "colab": {
          "base_uri": "https://localhost:8080/"
        },
        "outputId": "3a0429a8-b8a4-461f-e8f4-22d5f7b70467"
      },
      "execution_count": null,
      "outputs": [
        {
          "output_type": "stream",
          "name": "stdout",
          "text": [
            "87554\n",
            "Normal heartbeats:     72471\n",
            "SV ectopic (1):        2223\n",
            "Ventricle ectopic (2): 5788\n",
            "Fusion ectopic (3):    641\n",
            "Unknown (4):           6431\n",
            "------\n",
            "% Normal: 0.8277291728533248\n",
            "% Type 1: 0.025390045000799506\n",
            "% Type 2: 0.06610777348836147\n",
            "% Type 3: 0.007321196061858967\n",
            "% Type 4: 0.07345181259565525\n"
          ]
        }
      ]
    },
    {
      "cell_type": "markdown",
      "source": [
        "**Resize number of normal beats**"
      ],
      "metadata": {
        "id": "WjuyVu9Byf62"
      }
    },
    {
      "cell_type": "markdown",
      "source": [
        "To address the class imbalance, I decided to take the random first 10% of normal data, and concatenate it with the rest of the abnormal data in order to train a k-nearest neighnor model."
      ],
      "metadata": {
        "id": "6L0Upjd60yug"
      }
    },
    {
      "cell_type": "code",
      "source": [
        "normal_training = training_data[training_data['Label'] == 0]\n",
        "abnormal_training = training_data[training_data['Label'] != 0]\n",
        "# print(normal_training.head())\n",
        "\n",
        "normal_training = normal_training.sample(frac = 1)\n",
        "# print(normal_training.head())\n",
        "\n",
        "print(normal_training.index.size)\n",
        "tenPercent_normal_training = normal_training.head(7247)\n",
        "print(tenPercent_normal_training.index.size)"
      ],
      "metadata": {
        "id": "oHQCSl0GBqVJ",
        "colab": {
          "base_uri": "https://localhost:8080/"
        },
        "outputId": "99a56045-fbfd-4efe-c39c-3a52a5328ce8"
      },
      "execution_count": null,
      "outputs": [
        {
          "output_type": "stream",
          "name": "stdout",
          "text": [
            "72471\n",
            "7247\n"
          ]
        }
      ]
    },
    {
      "cell_type": "code",
      "source": [
        "resize_training = pd.concat([tenPercent_normal_training, abnormal_training], axis =0, ignore_index=True)\n",
        "\n",
        "countNorm = (resize_training['Label']==0).sum()\n",
        "countOne = (resize_training['Label']==1).sum()\n",
        "countTwo = (resize_training['Label']==2).sum()\n",
        "countThree = (resize_training['Label']==3).sum()\n",
        "countFour = (resize_training['Label']==4).sum()\n",
        "countTotal = resize_training.shape[0]\n",
        "print(countTotal)\n",
        "\n",
        "print(\"Normal heartbeats:    \", countNorm)\n",
        "print(\"SV ectopic (1):       \", countOne)\n",
        "print(\"Ventricle ectopic (2):\", countTwo)\n",
        "print(\"Fusion ectopic (3):   \", countThree)\n",
        "print(\"Unknown (4):          \", countFour)\n",
        "print('------')\n",
        "print(\"% Normal:\", countNorm/countTotal)\n",
        "print(\"% Type 1:\", countOne/countTotal)\n",
        "print(\"% Type 2:\", countTwo/countTotal)\n",
        "print(\"% Type 3:\", countThree/countTotal)\n",
        "print(\"% Type 4:\", countFour/countTotal)"
      ],
      "metadata": {
        "id": "C711ihLiBwCz",
        "colab": {
          "base_uri": "https://localhost:8080/"
        },
        "outputId": "7f23b6dc-55c6-4bef-c509-514e1d7f4aea"
      },
      "execution_count": null,
      "outputs": [
        {
          "output_type": "stream",
          "name": "stdout",
          "text": [
            "22330\n",
            "Normal heartbeats:     7247\n",
            "SV ectopic (1):        2223\n",
            "Ventricle ectopic (2): 5788\n",
            "Fusion ectopic (3):    641\n",
            "Unknown (4):           6431\n",
            "------\n",
            "% Normal: 0.3245409762651142\n",
            "% Type 1: 0.09955217196596507\n",
            "% Type 2: 0.25920286609941784\n",
            "% Type 3: 0.02870577698163905\n",
            "% Type 4: 0.28799820868786385\n"
          ]
        }
      ]
    },
    {
      "cell_type": "code",
      "source": [
        "#Training data AFTER resizing normal data\n",
        "x_train_re = resize_training.drop(['Label'],axis=1)\n",
        "y_train_re = resize_training['Label']\n",
        "\n",
        "#Testing data\n",
        "x_test_re = test_data.drop(['Label'],axis=1)\n",
        "y_test_re = test_data['Label']\n",
        "\n",
        "#Preprocessing and fit\n",
        "MinMaxScaler_re = preprocessing.MinMaxScaler()\n",
        "X_data_minmax_re = MinMaxScaler_re.fit_transform(x_train_re)\n",
        "data_re = pd.DataFrame(X_data_minmax_re, columns=x_train_re.columns)\n",
        "data_re.head()"
      ],
      "metadata": {
        "id": "2PouDNV6BzKA",
        "colab": {
          "base_uri": "https://localhost:8080/",
          "height": 236
        },
        "outputId": "2646d534-645b-4e80-b990-a6c31a290396"
      },
      "execution_count": null,
      "outputs": [
        {
          "output_type": "execute_result",
          "data": {
            "text/plain": [
              "        0         1         2         3         4         5         6    \\\n",
              "0  0.959215  0.809668  0.235650  0.000000  0.217523  0.222054  0.223565   \n",
              "1  0.996974  0.944024  0.591528  0.178517  0.167927  0.208775  0.193646   \n",
              "2  1.000000  0.939326  0.773034  0.474157  0.292135  0.265169  0.235955   \n",
              "3  1.000000  0.441860  0.037209  0.079070  0.069767  0.027907  0.074419   \n",
              "4  0.000000  0.210366  0.329268  0.435976  0.478659  0.484756  0.509146   \n",
              "\n",
              "        7         8         9    ...  177  178  179  180  181  182  183  184  \\\n",
              "0  0.246224  0.240635  0.229906  ...  0.0  0.0  0.0  0.0  0.0  0.0  0.0  0.0   \n",
              "1  0.183056  0.184203  0.165783  ...  0.0  0.0  0.0  0.0  0.0  0.0  0.0  0.0   \n",
              "2  0.206742  0.198370  0.171009  ...  0.0  0.0  0.0  0.0  0.0  0.0  0.0  0.0   \n",
              "3  0.055814  0.113263  0.108544  ...  0.0  0.0  0.0  0.0  0.0  0.0  0.0  0.0   \n",
              "4  0.509146  0.513513  0.532074  ...  0.0  0.0  0.0  0.0  0.0  0.0  0.0  0.0   \n",
              "\n",
              "   185  186  \n",
              "0  0.0  0.0  \n",
              "1  0.0  0.0  \n",
              "2  0.0  0.0  \n",
              "3  0.0  0.0  \n",
              "4  0.0  0.0  \n",
              "\n",
              "[5 rows x 187 columns]"
            ],
            "text/html": [
              "\n",
              "  <div id=\"df-e71149fe-9303-47fe-8745-1d85401919a2\" class=\"colab-df-container\">\n",
              "    <div>\n",
              "<style scoped>\n",
              "    .dataframe tbody tr th:only-of-type {\n",
              "        vertical-align: middle;\n",
              "    }\n",
              "\n",
              "    .dataframe tbody tr th {\n",
              "        vertical-align: top;\n",
              "    }\n",
              "\n",
              "    .dataframe thead th {\n",
              "        text-align: right;\n",
              "    }\n",
              "</style>\n",
              "<table border=\"1\" class=\"dataframe\">\n",
              "  <thead>\n",
              "    <tr style=\"text-align: right;\">\n",
              "      <th></th>\n",
              "      <th>0</th>\n",
              "      <th>1</th>\n",
              "      <th>2</th>\n",
              "      <th>3</th>\n",
              "      <th>4</th>\n",
              "      <th>5</th>\n",
              "      <th>6</th>\n",
              "      <th>7</th>\n",
              "      <th>8</th>\n",
              "      <th>9</th>\n",
              "      <th>...</th>\n",
              "      <th>177</th>\n",
              "      <th>178</th>\n",
              "      <th>179</th>\n",
              "      <th>180</th>\n",
              "      <th>181</th>\n",
              "      <th>182</th>\n",
              "      <th>183</th>\n",
              "      <th>184</th>\n",
              "      <th>185</th>\n",
              "      <th>186</th>\n",
              "    </tr>\n",
              "  </thead>\n",
              "  <tbody>\n",
              "    <tr>\n",
              "      <th>0</th>\n",
              "      <td>0.959215</td>\n",
              "      <td>0.809668</td>\n",
              "      <td>0.235650</td>\n",
              "      <td>0.000000</td>\n",
              "      <td>0.217523</td>\n",
              "      <td>0.222054</td>\n",
              "      <td>0.223565</td>\n",
              "      <td>0.246224</td>\n",
              "      <td>0.240635</td>\n",
              "      <td>0.229906</td>\n",
              "      <td>...</td>\n",
              "      <td>0.0</td>\n",
              "      <td>0.0</td>\n",
              "      <td>0.0</td>\n",
              "      <td>0.0</td>\n",
              "      <td>0.0</td>\n",
              "      <td>0.0</td>\n",
              "      <td>0.0</td>\n",
              "      <td>0.0</td>\n",
              "      <td>0.0</td>\n",
              "      <td>0.0</td>\n",
              "    </tr>\n",
              "    <tr>\n",
              "      <th>1</th>\n",
              "      <td>0.996974</td>\n",
              "      <td>0.944024</td>\n",
              "      <td>0.591528</td>\n",
              "      <td>0.178517</td>\n",
              "      <td>0.167927</td>\n",
              "      <td>0.208775</td>\n",
              "      <td>0.193646</td>\n",
              "      <td>0.183056</td>\n",
              "      <td>0.184203</td>\n",
              "      <td>0.165783</td>\n",
              "      <td>...</td>\n",
              "      <td>0.0</td>\n",
              "      <td>0.0</td>\n",
              "      <td>0.0</td>\n",
              "      <td>0.0</td>\n",
              "      <td>0.0</td>\n",
              "      <td>0.0</td>\n",
              "      <td>0.0</td>\n",
              "      <td>0.0</td>\n",
              "      <td>0.0</td>\n",
              "      <td>0.0</td>\n",
              "    </tr>\n",
              "    <tr>\n",
              "      <th>2</th>\n",
              "      <td>1.000000</td>\n",
              "      <td>0.939326</td>\n",
              "      <td>0.773034</td>\n",
              "      <td>0.474157</td>\n",
              "      <td>0.292135</td>\n",
              "      <td>0.265169</td>\n",
              "      <td>0.235955</td>\n",
              "      <td>0.206742</td>\n",
              "      <td>0.198370</td>\n",
              "      <td>0.171009</td>\n",
              "      <td>...</td>\n",
              "      <td>0.0</td>\n",
              "      <td>0.0</td>\n",
              "      <td>0.0</td>\n",
              "      <td>0.0</td>\n",
              "      <td>0.0</td>\n",
              "      <td>0.0</td>\n",
              "      <td>0.0</td>\n",
              "      <td>0.0</td>\n",
              "      <td>0.0</td>\n",
              "      <td>0.0</td>\n",
              "    </tr>\n",
              "    <tr>\n",
              "      <th>3</th>\n",
              "      <td>1.000000</td>\n",
              "      <td>0.441860</td>\n",
              "      <td>0.037209</td>\n",
              "      <td>0.079070</td>\n",
              "      <td>0.069767</td>\n",
              "      <td>0.027907</td>\n",
              "      <td>0.074419</td>\n",
              "      <td>0.055814</td>\n",
              "      <td>0.113263</td>\n",
              "      <td>0.108544</td>\n",
              "      <td>...</td>\n",
              "      <td>0.0</td>\n",
              "      <td>0.0</td>\n",
              "      <td>0.0</td>\n",
              "      <td>0.0</td>\n",
              "      <td>0.0</td>\n",
              "      <td>0.0</td>\n",
              "      <td>0.0</td>\n",
              "      <td>0.0</td>\n",
              "      <td>0.0</td>\n",
              "      <td>0.0</td>\n",
              "    </tr>\n",
              "    <tr>\n",
              "      <th>4</th>\n",
              "      <td>0.000000</td>\n",
              "      <td>0.210366</td>\n",
              "      <td>0.329268</td>\n",
              "      <td>0.435976</td>\n",
              "      <td>0.478659</td>\n",
              "      <td>0.484756</td>\n",
              "      <td>0.509146</td>\n",
              "      <td>0.509146</td>\n",
              "      <td>0.513513</td>\n",
              "      <td>0.532074</td>\n",
              "      <td>...</td>\n",
              "      <td>0.0</td>\n",
              "      <td>0.0</td>\n",
              "      <td>0.0</td>\n",
              "      <td>0.0</td>\n",
              "      <td>0.0</td>\n",
              "      <td>0.0</td>\n",
              "      <td>0.0</td>\n",
              "      <td>0.0</td>\n",
              "      <td>0.0</td>\n",
              "      <td>0.0</td>\n",
              "    </tr>\n",
              "  </tbody>\n",
              "</table>\n",
              "<p>5 rows × 187 columns</p>\n",
              "</div>\n",
              "    <div class=\"colab-df-buttons\">\n",
              "\n",
              "  <div class=\"colab-df-container\">\n",
              "    <button class=\"colab-df-convert\" onclick=\"convertToInteractive('df-e71149fe-9303-47fe-8745-1d85401919a2')\"\n",
              "            title=\"Convert this dataframe to an interactive table.\"\n",
              "            style=\"display:none;\">\n",
              "\n",
              "  <svg xmlns=\"http://www.w3.org/2000/svg\" height=\"24px\" viewBox=\"0 -960 960 960\">\n",
              "    <path d=\"M120-120v-720h720v720H120Zm60-500h600v-160H180v160Zm220 220h160v-160H400v160Zm0 220h160v-160H400v160ZM180-400h160v-160H180v160Zm440 0h160v-160H620v160ZM180-180h160v-160H180v160Zm440 0h160v-160H620v160Z\"/>\n",
              "  </svg>\n",
              "    </button>\n",
              "\n",
              "  <style>\n",
              "    .colab-df-container {\n",
              "      display:flex;\n",
              "      gap: 12px;\n",
              "    }\n",
              "\n",
              "    .colab-df-convert {\n",
              "      background-color: #E8F0FE;\n",
              "      border: none;\n",
              "      border-radius: 50%;\n",
              "      cursor: pointer;\n",
              "      display: none;\n",
              "      fill: #1967D2;\n",
              "      height: 32px;\n",
              "      padding: 0 0 0 0;\n",
              "      width: 32px;\n",
              "    }\n",
              "\n",
              "    .colab-df-convert:hover {\n",
              "      background-color: #E2EBFA;\n",
              "      box-shadow: 0px 1px 2px rgba(60, 64, 67, 0.3), 0px 1px 3px 1px rgba(60, 64, 67, 0.15);\n",
              "      fill: #174EA6;\n",
              "    }\n",
              "\n",
              "    .colab-df-buttons div {\n",
              "      margin-bottom: 4px;\n",
              "    }\n",
              "\n",
              "    [theme=dark] .colab-df-convert {\n",
              "      background-color: #3B4455;\n",
              "      fill: #D2E3FC;\n",
              "    }\n",
              "\n",
              "    [theme=dark] .colab-df-convert:hover {\n",
              "      background-color: #434B5C;\n",
              "      box-shadow: 0px 1px 3px 1px rgba(0, 0, 0, 0.15);\n",
              "      filter: drop-shadow(0px 1px 2px rgba(0, 0, 0, 0.3));\n",
              "      fill: #FFFFFF;\n",
              "    }\n",
              "  </style>\n",
              "\n",
              "    <script>\n",
              "      const buttonEl =\n",
              "        document.querySelector('#df-e71149fe-9303-47fe-8745-1d85401919a2 button.colab-df-convert');\n",
              "      buttonEl.style.display =\n",
              "        google.colab.kernel.accessAllowed ? 'block' : 'none';\n",
              "\n",
              "      async function convertToInteractive(key) {\n",
              "        const element = document.querySelector('#df-e71149fe-9303-47fe-8745-1d85401919a2');\n",
              "        const dataTable =\n",
              "          await google.colab.kernel.invokeFunction('convertToInteractive',\n",
              "                                                    [key], {});\n",
              "        if (!dataTable) return;\n",
              "\n",
              "        const docLinkHtml = 'Like what you see? Visit the ' +\n",
              "          '<a target=\"_blank\" href=https://colab.research.google.com/notebooks/data_table.ipynb>data table notebook</a>'\n",
              "          + ' to learn more about interactive tables.';\n",
              "        element.innerHTML = '';\n",
              "        dataTable['output_type'] = 'display_data';\n",
              "        await google.colab.output.renderOutput(dataTable, element);\n",
              "        const docLink = document.createElement('div');\n",
              "        docLink.innerHTML = docLinkHtml;\n",
              "        element.appendChild(docLink);\n",
              "      }\n",
              "    </script>\n",
              "  </div>\n",
              "\n",
              "\n",
              "<div id=\"df-db088b7d-22a6-40ae-80e9-7aa3559650c9\">\n",
              "  <button class=\"colab-df-quickchart\" onclick=\"quickchart('df-db088b7d-22a6-40ae-80e9-7aa3559650c9')\"\n",
              "            title=\"Suggest charts\"\n",
              "            style=\"display:none;\">\n",
              "\n",
              "<svg xmlns=\"http://www.w3.org/2000/svg\" height=\"24px\"viewBox=\"0 0 24 24\"\n",
              "     width=\"24px\">\n",
              "    <g>\n",
              "        <path d=\"M19 3H5c-1.1 0-2 .9-2 2v14c0 1.1.9 2 2 2h14c1.1 0 2-.9 2-2V5c0-1.1-.9-2-2-2zM9 17H7v-7h2v7zm4 0h-2V7h2v10zm4 0h-2v-4h2v4z\"/>\n",
              "    </g>\n",
              "</svg>\n",
              "  </button>\n",
              "\n",
              "<style>\n",
              "  .colab-df-quickchart {\n",
              "      --bg-color: #E8F0FE;\n",
              "      --fill-color: #1967D2;\n",
              "      --hover-bg-color: #E2EBFA;\n",
              "      --hover-fill-color: #174EA6;\n",
              "      --disabled-fill-color: #AAA;\n",
              "      --disabled-bg-color: #DDD;\n",
              "  }\n",
              "\n",
              "  [theme=dark] .colab-df-quickchart {\n",
              "      --bg-color: #3B4455;\n",
              "      --fill-color: #D2E3FC;\n",
              "      --hover-bg-color: #434B5C;\n",
              "      --hover-fill-color: #FFFFFF;\n",
              "      --disabled-bg-color: #3B4455;\n",
              "      --disabled-fill-color: #666;\n",
              "  }\n",
              "\n",
              "  .colab-df-quickchart {\n",
              "    background-color: var(--bg-color);\n",
              "    border: none;\n",
              "    border-radius: 50%;\n",
              "    cursor: pointer;\n",
              "    display: none;\n",
              "    fill: var(--fill-color);\n",
              "    height: 32px;\n",
              "    padding: 0;\n",
              "    width: 32px;\n",
              "  }\n",
              "\n",
              "  .colab-df-quickchart:hover {\n",
              "    background-color: var(--hover-bg-color);\n",
              "    box-shadow: 0 1px 2px rgba(60, 64, 67, 0.3), 0 1px 3px 1px rgba(60, 64, 67, 0.15);\n",
              "    fill: var(--button-hover-fill-color);\n",
              "  }\n",
              "\n",
              "  .colab-df-quickchart-complete:disabled,\n",
              "  .colab-df-quickchart-complete:disabled:hover {\n",
              "    background-color: var(--disabled-bg-color);\n",
              "    fill: var(--disabled-fill-color);\n",
              "    box-shadow: none;\n",
              "  }\n",
              "\n",
              "  .colab-df-spinner {\n",
              "    border: 2px solid var(--fill-color);\n",
              "    border-color: transparent;\n",
              "    border-bottom-color: var(--fill-color);\n",
              "    animation:\n",
              "      spin 1s steps(1) infinite;\n",
              "  }\n",
              "\n",
              "  @keyframes spin {\n",
              "    0% {\n",
              "      border-color: transparent;\n",
              "      border-bottom-color: var(--fill-color);\n",
              "      border-left-color: var(--fill-color);\n",
              "    }\n",
              "    20% {\n",
              "      border-color: transparent;\n",
              "      border-left-color: var(--fill-color);\n",
              "      border-top-color: var(--fill-color);\n",
              "    }\n",
              "    30% {\n",
              "      border-color: transparent;\n",
              "      border-left-color: var(--fill-color);\n",
              "      border-top-color: var(--fill-color);\n",
              "      border-right-color: var(--fill-color);\n",
              "    }\n",
              "    40% {\n",
              "      border-color: transparent;\n",
              "      border-right-color: var(--fill-color);\n",
              "      border-top-color: var(--fill-color);\n",
              "    }\n",
              "    60% {\n",
              "      border-color: transparent;\n",
              "      border-right-color: var(--fill-color);\n",
              "    }\n",
              "    80% {\n",
              "      border-color: transparent;\n",
              "      border-right-color: var(--fill-color);\n",
              "      border-bottom-color: var(--fill-color);\n",
              "    }\n",
              "    90% {\n",
              "      border-color: transparent;\n",
              "      border-bottom-color: var(--fill-color);\n",
              "    }\n",
              "  }\n",
              "</style>\n",
              "\n",
              "  <script>\n",
              "    async function quickchart(key) {\n",
              "      const quickchartButtonEl =\n",
              "        document.querySelector('#' + key + ' button');\n",
              "      quickchartButtonEl.disabled = true;  // To prevent multiple clicks.\n",
              "      quickchartButtonEl.classList.add('colab-df-spinner');\n",
              "      try {\n",
              "        const charts = await google.colab.kernel.invokeFunction(\n",
              "            'suggestCharts', [key], {});\n",
              "      } catch (error) {\n",
              "        console.error('Error during call to suggestCharts:', error);\n",
              "      }\n",
              "      quickchartButtonEl.classList.remove('colab-df-spinner');\n",
              "      quickchartButtonEl.classList.add('colab-df-quickchart-complete');\n",
              "    }\n",
              "    (() => {\n",
              "      let quickchartButtonEl =\n",
              "        document.querySelector('#df-db088b7d-22a6-40ae-80e9-7aa3559650c9 button');\n",
              "      quickchartButtonEl.style.display =\n",
              "        google.colab.kernel.accessAllowed ? 'block' : 'none';\n",
              "    })();\n",
              "  </script>\n",
              "</div>\n",
              "\n",
              "    </div>\n",
              "  </div>\n"
            ],
            "application/vnd.google.colaboratory.intrinsic+json": {
              "type": "dataframe",
              "variable_name": "data_re"
            }
          },
          "metadata": {},
          "execution_count": 14
        }
      ]
    },
    {
      "cell_type": "code",
      "source": [
        "# k-nearest neighbor training with resized normal\n",
        "knn_clf_re = KNeighborsClassifier()\n",
        "knn_clf_re = knn_clf_re.fit(x_train_re, y_train_re)\n",
        "y_pred_re = knn_clf_re.predict(x_test)"
      ],
      "metadata": {
        "id": "jUW5CEEIB4pW"
      },
      "execution_count": null,
      "outputs": []
    },
    {
      "cell_type": "code",
      "source": [
        "result = confusion_matrix(y_test, y_pred_re)\n",
        "print('Confusion Matrix:')\n",
        "print(result)\n",
        "result1 = classification_report(y_test, y_pred_re)\n",
        "print('Classification Report:',)\n",
        "print (result1)\n",
        "result2 = accuracy_score(y_test,y_pred_re)\n",
        "print('Accuracy:',result2)\n",
        "\n"
      ],
      "metadata": {
        "id": "CwhMH8FKB8dV",
        "colab": {
          "base_uri": "https://localhost:8080/"
        },
        "outputId": "5c012677-f15f-4baa-9eda-9781a6dd82c9"
      },
      "execution_count": null,
      "outputs": [
        {
          "output_type": "stream",
          "name": "stdout",
          "text": [
            "Confusion Matrix:\n",
            "[[17208   425   346    67    72]\n",
            " [  101   425    26     2     2]\n",
            " [   42    10  1366    25     5]\n",
            " [   14     2    19   127     0]\n",
            " [   30     5    15     0  1558]]\n",
            "Classification Report:\n",
            "              precision    recall  f1-score   support\n",
            "\n",
            "         0.0       0.99      0.95      0.97     18118\n",
            "         1.0       0.49      0.76      0.60       556\n",
            "         2.0       0.77      0.94      0.85      1448\n",
            "         3.0       0.57      0.78      0.66       162\n",
            "         4.0       0.95      0.97      0.96      1608\n",
            "\n",
            "    accuracy                           0.94     21892\n",
            "   macro avg       0.76      0.88      0.81     21892\n",
            "weighted avg       0.96      0.94      0.95     21892\n",
            "\n",
            "Accuracy: 0.9448200255801206\n"
          ]
        }
      ]
    },
    {
      "cell_type": "markdown",
      "source": [
        "This is better, but ideally, the goal is to have as few false negatives as possible, since a false negative could lead to a patient not receiving treatment when it is needed."
      ],
      "metadata": {
        "id": "VFpFbcpz1JH1"
      }
    },
    {
      "cell_type": "markdown",
      "source": [
        "**Logistic regression**"
      ],
      "metadata": {
        "id": "Wjpg9kLFDDJp"
      }
    },
    {
      "cell_type": "code",
      "source": [
        "#imports for Logistic Regression\n",
        "from sklearn.linear_model import LogisticRegression\n",
        "from sklearn.metrics import accuracy_score\n",
        "\n",
        "lg_model = LogisticRegression(multi_class='multinomial', solver='lbfgs', max_iter=1000)"
      ],
      "metadata": {
        "id": "VgcKRw5wB-19"
      },
      "execution_count": null,
      "outputs": []
    },
    {
      "cell_type": "code",
      "source": [
        "lg_model = lg_model.fit(test_data.drop(['Label'],axis=1), test_data['Label'])\n",
        "y_pred = lg_model.predict(test_data.drop(['Label'],axis=1))\n",
        "acc = accuracy_score(test_data['Label'], y_pred)"
      ],
      "metadata": {
        "id": "uTA7Q2yrCB-e"
      },
      "execution_count": null,
      "outputs": []
    },
    {
      "cell_type": "code",
      "source": [
        "print('accuracy: ', acc)\n",
        "print('precision: %.4f' % precision_score(y_test, y_pred,average='weighted'))\n",
        "print('recall: %.4f' % recall_score(y_test, y_pred,average='weighted'))\n",
        "print('f1_score: %.4f' % f1_score(y_test, y_pred,average='weighted'))"
      ],
      "metadata": {
        "id": "3AFEiOPPCDdx",
        "colab": {
          "base_uri": "https://localhost:8080/"
        },
        "outputId": "dc86baac-5701-46a0-e7c7-8c104a57adf7"
      },
      "execution_count": null,
      "outputs": [
        {
          "output_type": "stream",
          "name": "stdout",
          "text": [
            "accuracy:  0.9115658688105244\n",
            "precision: 0.9011\n",
            "recall: 0.9116\n",
            "f1_score: 0.8977\n"
          ]
        }
      ]
    },
    {
      "cell_type": "markdown",
      "source": [
        "Once again, take the first ~20% of normal data, concatenate with all abnormal data, and use to train model to avoid class imbalance."
      ],
      "metadata": {
        "id": "GYJoD7ai3huW"
      }
    },
    {
      "cell_type": "code",
      "source": [
        "normal_training = training_data[training_data['Label'] == 0]\n",
        "abnormal_training = training_data[training_data['Label'] != 0]\n",
        "# print(normal_training.head())\n",
        "\n",
        "normal_training = normal_training.sample(frac = 1)\n",
        "# print(normal_training.head())\n",
        "\n",
        "print(normal_training.index.size)\n",
        "tenPercent_normal_training = normal_training.head(15000)\n",
        "print(tenPercent_normal_training.index.size)\n",
        "\n",
        "resize_training = pd.concat([tenPercent_normal_training, abnormal_training], axis =0, ignore_index=True)"
      ],
      "metadata": {
        "id": "_iOYj30dCFMt",
        "colab": {
          "base_uri": "https://localhost:8080/"
        },
        "outputId": "1b405d05-01ab-4cf1-98c4-de67c10d0b0b"
      },
      "execution_count": null,
      "outputs": [
        {
          "output_type": "stream",
          "name": "stdout",
          "text": [
            "72471\n",
            "15000\n"
          ]
        }
      ]
    },
    {
      "cell_type": "code",
      "source": [
        "lg_model_re = lg_model.fit(resize_training.drop(['Label'],axis=1), resize_training['Label'])\n",
        "y_pred = lg_model_re.predict(test_data.drop(['Label'],axis=1))\n",
        "acc = accuracy_score(test_data['Label'], y_pred)\n",
        "\n",
        "print(\"Accuracy after resizing normal:\", acc)"
      ],
      "metadata": {
        "id": "HwLEEVdaCL1M",
        "colab": {
          "base_uri": "https://localhost:8080/"
        },
        "outputId": "844c6c6c-c0ea-4515-f0de-3e2522bd7378"
      },
      "execution_count": null,
      "outputs": [
        {
          "output_type": "stream",
          "name": "stdout",
          "text": [
            "Accuracy after resizing normal: 0.876667275717157\n"
          ]
        }
      ]
    },
    {
      "cell_type": "markdown",
      "source": [
        "Accuracy seems to get worse when choosing the random first percentage of normal data. However, this is not necessarily bad. The model is fed too much normal data with the full dataset, and tends to overpredict when a heartbeat will be normal, which is harmful. The accuracy drops, but the model gets closer to performing the way we would want it to."
      ],
      "metadata": {
        "id": "n8AfC4lWDF-t"
      }
    },
    {
      "cell_type": "markdown",
      "source": [
        "**Logistic Regression w/ Undersampling and Oversampling**"
      ],
      "metadata": {
        "id": "zlQlWczQPjzX"
      }
    },
    {
      "cell_type": "code",
      "source": [
        "x_train = training_data.drop(['Label'],axis=1)\n",
        "y_train = training_data['Label']\n",
        "\n",
        "x_test = test_data.drop(['Label'],axis=1)\n",
        "y_test = test_data['Label']\n",
        "\n",
        "print((y_train == 0).sum())\n",
        "print((y_train == 1).sum())\n",
        "print((y_train == 2).sum())\n",
        "print((y_train == 3).sum())\n",
        "print((y_train == 4).sum())"
      ],
      "metadata": {
        "id": "XHiBTRXhPocc",
        "colab": {
          "base_uri": "https://localhost:8080/"
        },
        "outputId": "3991bfe2-483d-4cc8-e34f-97597a60d932"
      },
      "execution_count": null,
      "outputs": [
        {
          "output_type": "stream",
          "name": "stdout",
          "text": [
            "72471\n",
            "2223\n",
            "5788\n",
            "641\n",
            "6431\n"
          ]
        }
      ]
    },
    {
      "cell_type": "code",
      "source": [
        "##Split training data into each class\n",
        "training_normal = training_data[training_data['Label'] == 0]\n",
        "training_one = training_data[training_data['Label'] == 1]\n",
        "training_two = training_data[training_data['Label'] == 2]\n",
        "training_three = training_data[training_data['Label'] == 3]\n",
        "training_four = training_data[training_data['Label'] == 4]\n",
        "\n",
        "#Shuffle all dataframes\n",
        "training_normal = training_normal.sample(frac = 1)\n",
        "training_one = training_one.sample(frac = 1)\n",
        "training_two = training_two.sample(frac = 1)\n",
        "training_three = training_three.sample(frac = 1)\n",
        "training_four = training_four.sample(frac = 1)\n",
        "\n",
        "#Take only first 600 of each class\n",
        "training_normal = training_normal.head(600)\n",
        "training_one = training_one.head(600)\n",
        "training_two = training_two.head(600)\n",
        "training_three = training_three.head(600)\n",
        "training_four = training_four.head(600)"
      ],
      "metadata": {
        "id": "HaU9VUXdTB6E"
      },
      "execution_count": null,
      "outputs": []
    },
    {
      "cell_type": "code",
      "source": [
        "# Split training into the time series info and label\n",
        "x_train_normal = training_normal.drop(['Label'],axis=1)\n",
        "y_train_normal = training_normal['Label']\n",
        "\n",
        "x_train_one = training_one.drop(['Label'],axis=1)\n",
        "y_train_one = training_one['Label']\n",
        "\n",
        "x_train_two = training_two.drop(['Label'],axis=1)\n",
        "y_train_two = training_two['Label']\n",
        "\n",
        "x_train_three = training_three.drop(['Label'],axis=1)\n",
        "y_train_three = training_three['Label']\n",
        "\n",
        "x_train_four = training_four.drop(['Label'],axis=1)\n",
        "y_train_four = training_four['Label']"
      ],
      "metadata": {
        "id": "5gxgABCHV1-d"
      },
      "execution_count": null,
      "outputs": []
    },
    {
      "cell_type": "code",
      "source": [
        "# Concatenate x and y training back together\n",
        "x_train_equal_size = pd.concat([x_train_normal, x_train_one, x_train_two, x_train_three, x_train_four], axis =0, ignore_index=True)\n",
        "y_train_equal_size = pd.concat([y_train_normal, y_train_one, y_train_two, y_train_three, y_train_four], axis =0, ignore_index=True)\n",
        "print(x_train_equal_size.shape)\n",
        "print(y_train_equal_size.shape)\n",
        "print(y_train_equal_size.unique())"
      ],
      "metadata": {
        "id": "ulIs0AoiWilH",
        "colab": {
          "base_uri": "https://localhost:8080/"
        },
        "outputId": "e8debc7c-1902-43d6-b682-266d226f6acc"
      },
      "execution_count": null,
      "outputs": [
        {
          "output_type": "stream",
          "name": "stdout",
          "text": [
            "(3000, 187)\n",
            "(3000,)\n",
            "[0. 1. 2. 3. 4.]\n"
          ]
        }
      ]
    },
    {
      "cell_type": "code",
      "source": [
        "lg_model = LogisticRegression(multi_class='multinomial', solver='lbfgs', max_iter=1000)\n",
        "\n",
        "lg_model = lg_model.fit(x_train_equal_size, y_train_equal_size)\n",
        "y_pred = lg_model.predict(x_test)\n",
        "acc = accuracy_score(y_test, y_pred)"
      ],
      "metadata": {
        "id": "8AYyPLwQXMGt"
      },
      "execution_count": null,
      "outputs": []
    },
    {
      "cell_type": "code",
      "source": [
        "\n",
        "result = confusion_matrix(y_test, y_pred)\n",
        "print('Confusion Matrix:')\n",
        "print(result)\n",
        "result1 = classification_report(y_test, y_pred)\n",
        "print('Classification Report:',)\n",
        "print (result1)\n",
        "result2 = accuracy_score(y_test,y_pred)\n",
        "print('Accuracy:',result2)\n",
        "\n",
        "print('precision: %.4f' % precision_score(y_test, y_pred,average='weighted'))\n",
        "print('recall: %.4f' % recall_score(y_test, y_pred,average='weighted'))\n",
        "print('f1_score: %.4f' % f1_score(y_test, y_pred,average='weighted'))"
      ],
      "metadata": {
        "id": "K69H7ZlwZfOz",
        "colab": {
          "base_uri": "https://localhost:8080/"
        },
        "outputId": "912159d6-16ac-479c-a06f-f95bd4fc7d65"
      },
      "execution_count": null,
      "outputs": [
        {
          "output_type": "stream",
          "name": "stdout",
          "text": [
            "Confusion Matrix:\n",
            "[[10801  2783  2312  1606   616]\n",
            " [  115   375    30    29     7]\n",
            " [  125    58  1052   156    57]\n",
            " [   13     0     9   140     0]\n",
            " [   57     3    68    10  1470]]\n",
            "Classification Report:\n",
            "              precision    recall  f1-score   support\n",
            "\n",
            "         0.0       0.97      0.60      0.74     18118\n",
            "         1.0       0.12      0.67      0.20       556\n",
            "         2.0       0.30      0.73      0.43      1448\n",
            "         3.0       0.07      0.86      0.13       162\n",
            "         4.0       0.68      0.91      0.78      1608\n",
            "\n",
            "    accuracy                           0.63     21892\n",
            "   macro avg       0.43      0.76      0.46     21892\n",
            "weighted avg       0.88      0.63      0.70     21892\n",
            "\n",
            "Accuracy: 0.6321030513429563\n",
            "precision: 0.8783\n",
            "recall: 0.6321\n",
            "f1_score: 0.7034\n"
          ]
        }
      ]
    },
    {
      "cell_type": "code",
      "source": [
        "##Split training data into each class\n",
        "training_normal = training_data[training_data['Label'] == 0]\n",
        "training_one = training_data[training_data['Label'] == 1]\n",
        "training_two = training_data[training_data['Label'] == 2]\n",
        "training_three = training_data[training_data['Label'] == 3]\n",
        "training_four = training_data[training_data['Label'] == 4]\n",
        "\n",
        "#Shuffle all dataframes\n",
        "training_normal = training_normal.sample(frac = 1)\n",
        "training_one = training_one.sample(frac = 1)\n",
        "training_two = training_two.sample(frac = 1)\n",
        "training_three = training_three.sample(frac = 1)\n",
        "training_four = training_four.sample(frac = 1)\n",
        "\n",
        "#Take only first 1200 (or all) of each class\n",
        "training_normal_two = training_normal.head(600)\n",
        "training_one_two = training_one.head(1200)\n",
        "training_two_two = training_two.head(1200)\n",
        "training_three_two = training_three.head(641)\n",
        "training_four_two = training_four.head(600)\n",
        "\n",
        "# Split training into the time series info and label\n",
        "x_train_normal_two = training_normal_two.drop(['Label'],axis=1)\n",
        "y_train_normal_two = training_normal_two['Label']\n",
        "\n",
        "x_train_one_two = training_one_two.drop(['Label'],axis=1)\n",
        "y_train_one_two = training_one_two['Label']\n",
        "\n",
        "x_train_two_two = training_two_two.drop(['Label'],axis=1)\n",
        "y_train_two_two = training_two_two['Label']\n",
        "\n",
        "x_train_three_two = training_three_two.drop(['Label'],axis=1)\n",
        "y_train_three_two = training_three_two['Label']\n",
        "\n",
        "x_train_four_two = training_four_two.drop(['Label'],axis=1)\n",
        "y_train_four_two = training_four_two['Label']\n",
        "\n",
        "# Concatenate x and y training back together\n",
        "x_train_equal_size_two = pd.concat([x_train_normal_two, x_train_one_two, x_train_two_two, x_train_three_two, x_train_four_two], axis =0, ignore_index=True)\n",
        "y_train_equal_size_two = pd.concat([y_train_normal_two, y_train_one_two, y_train_two_two, y_train_three_two, y_train_four_two], axis =0, ignore_index=True)\n",
        "print(x_train_equal_size_two.shape)\n",
        "print(y_train_equal_size_two.shape)\n",
        "print(y_train_equal_size_two.unique())\n",
        "\n",
        "lg_model_two = LogisticRegression(multi_class='multinomial', solver='lbfgs', max_iter=1000)\n",
        "\n",
        "lg_model_two = lg_model_two.fit(x_train_equal_size_two, y_train_equal_size_two)\n",
        "y_pred_two = lg_model_two.predict(x_test)\n",
        "acc = accuracy_score(y_test, y_pred_two)\n",
        "\n",
        "result_two = confusion_matrix(y_test, y_pred_two)\n",
        "print('Confusion Matrix:')\n",
        "print(result_two)\n",
        "result1_two = classification_report(y_test, y_pred_two)\n",
        "print('Classification Report:',)\n",
        "print (result1_two)\n",
        "result2_two = accuracy_score(y_test,y_pred_two)\n",
        "print('Accuracy:',result2_two)"
      ],
      "metadata": {
        "id": "hWDIVly3wrR2",
        "colab": {
          "base_uri": "https://localhost:8080/"
        },
        "outputId": "89111e92-5484-40cd-d0da-9b02f9309214"
      },
      "execution_count": null,
      "outputs": [
        {
          "output_type": "stream",
          "name": "stdout",
          "text": [
            "(4241, 187)\n",
            "(4241,)\n",
            "[0. 1. 2. 3. 4.]\n",
            "Confusion Matrix:\n",
            "[[7019 5700 3372 1584  443]\n",
            " [  73  420   45   14    4]\n",
            " [  47   79 1182  114   26]\n",
            " [   9    1   12  140    0]\n",
            " [  33   17  130    7 1421]]\n",
            "Classification Report:\n",
            "              precision    recall  f1-score   support\n",
            "\n",
            "         0.0       0.98      0.39      0.55     18118\n",
            "         1.0       0.07      0.76      0.12       556\n",
            "         2.0       0.25      0.82      0.38      1448\n",
            "         3.0       0.08      0.86      0.14       162\n",
            "         4.0       0.75      0.88      0.81      1608\n",
            "\n",
            "    accuracy                           0.47     21892\n",
            "   macro avg       0.42      0.74      0.40     21892\n",
            "weighted avg       0.88      0.47      0.55     21892\n",
            "\n",
            "Accuracy: 0.46510140690663254\n"
          ]
        }
      ]
    },
    {
      "cell_type": "markdown",
      "source": [
        "Logisitic regression may not be the best model for this training method. Despite many different attempts to address class imabalance, the logistic regression's overall accuracy drops significantly. However, the amount of abnormal heartbeats being predicted as normal significantly decreased, which is a positive aspect of this model."
      ],
      "metadata": {
        "id": "iavyvMeyGwox"
      }
    },
    {
      "cell_type": "markdown",
      "source": [
        "**Logistic Regression with Class Weights**"
      ],
      "metadata": {
        "id": "7hOXklEi0aYg"
      }
    },
    {
      "cell_type": "markdown",
      "source": [
        "Revisiting the model with higher accuracy, k-nearest neighbor, let's observe specifics in our confusion matrix."
      ],
      "metadata": {
        "id": "Za2_5cfj0Pxe"
      }
    },
    {
      "cell_type": "code",
      "source": [
        "testNorm = ((test_data)['Label']==0).sum()\n",
        "testOne = ((test_data)['Label']==1).sum()\n",
        "testTwo = ((test_data)['Label']==2).sum()\n",
        "testThree = ((test_data)['Label']==3).sum()\n",
        "testFour = ((test_data)['Label']==4).sum()\n",
        "\n",
        "countNorm = (training_data['Label']==0).sum()\n",
        "countOne = (training_data['Label']==1).sum()\n",
        "countTwo = (training_data['Label']==2).sum()\n",
        "countThree = (training_data['Label']==3).sum()\n",
        "countFour = (training_data['Label']==4).sum()\n",
        "countAbnormal = countOne + countTwo + countThree + countFour\n",
        "countTotal = training_data.shape[0]\n",
        "\n",
        "print('% test false abnormals for (0):', ((38+45+9+5)/(18021+38+45+9+5))*100)\n",
        "print('% test false normals for (1):', (186/testOne)*100)\n",
        "print('% test false normals for (2):', (113/testTwo)*100)\n",
        "print('% test false normals for (3):', (43/testThree)*100)\n",
        "print('% test false normals for (4):', (69/testFour)*100)\n",
        "print('------')\n",
        "print('% abnormal (1):', (countOne/countAbnormal)*100)\n",
        "print('% abnormal (2):', (countTwo/countAbnormal)*100)\n",
        "print('% abnormal (3):', (countThree/countAbnormal)*100)\n",
        "print('% abnormal (4):', (countFour/countAbnormal)*100)"
      ],
      "metadata": {
        "id": "NJBcNzbA0e7J",
        "colab": {
          "base_uri": "https://localhost:8080/"
        },
        "outputId": "80128cf0-3efa-43c6-ee98-73b351afff0b"
      },
      "execution_count": null,
      "outputs": [
        {
          "output_type": "stream",
          "name": "stdout",
          "text": [
            "% test false abnormals for (0): 0.5353791809250469\n",
            "% test false normals for (1): 33.45323741007194\n",
            "% test false normals for (2): 7.803867403314917\n",
            "% test false normals for (3): 26.543209876543212\n",
            "% test false normals for (4): 4.291044776119403\n",
            "------\n",
            "% abnormal (1): 14.738447258502951\n",
            "% abnormal (2): 38.374328714446726\n",
            "% abnormal (3): 4.249817675528741\n",
            "% abnormal (4): 42.63740635152158\n"
          ]
        }
      ]
    },
    {
      "cell_type": "markdown",
      "source": [
        "For heartbeat data, we want false normals to be as low as possible -- this indicates the patient has an abnormal heartbeat, but they are diagnosed as normal. False normals are proportionally the highest for type 1 and type 3, which represent the least amounts of abnormal data being trained. To resolve this, we should implement a model with class weights to ensure all classes in the data are being trained effectively."
      ],
      "metadata": {
        "id": "EX49iJWh0mV5"
      }
    },
    {
      "cell_type": "code",
      "source": [
        "#importing and training the model\n",
        "from sklearn.linear_model import LogisticRegression\n",
        "from sklearn.metrics import f1_score\n",
        "from sklearn.metrics import confusion_matrix\n",
        "\n",
        "#Training data\n",
        "\n",
        "x_train_weight = training_data.drop(['Label'],axis=1)\n",
        "y_train_weight = training_data['Label']\n",
        "\n",
        "#Testing data\n",
        "x_test_weight = test_data.drop(['Label'],axis=1)\n",
        "y_test_weight = test_data['Label']\n",
        "\n",
        "lr_weight = LogisticRegression(solver='newton-cg', class_weight='balanced')\n",
        "lr_weight.fit(x_train_weight, y_train_weight)\n",
        "\n",
        "# Predicting on the test data\n",
        "pred_test_weight = lr_weight.predict(x_test_weight)\n",
        "\n",
        "#Calculating and printing the accuracy score\n",
        "acc_weight = accuracy_score(y_test_weight, pred_test_weight)\n",
        "\n",
        "print('The accuracy score for the testing data:', acc_weight)\n",
        "\n",
        "#Ploting the confusion matrix\n",
        "confusion_matrix(y_test_weight, pred_test_weight)"
      ],
      "metadata": {
        "id": "U_EfQKQq10eq",
        "colab": {
          "base_uri": "https://localhost:8080/"
        },
        "outputId": "99765b9a-4ff0-45f8-fa49-94496eac2497"
      },
      "execution_count": null,
      "outputs": [
        {
          "output_type": "stream",
          "name": "stdout",
          "text": [
            "The accuracy score for the testing data: 0.674355929106523\n"
          ]
        },
        {
          "output_type": "execute_result",
          "data": {
            "text/plain": [
              "array([[11735,  2113,  2390,  1396,   484],\n",
              "       [  128,   368,    33,    19,     8],\n",
              "       [  141,    54,  1049,   154,    50],\n",
              "       [   11,     0,     9,   142,     0],\n",
              "       [   47,     6,    73,    13,  1469]])"
            ]
          },
          "metadata": {},
          "execution_count": 30
        }
      ]
    },
    {
      "cell_type": "code",
      "source": [
        "print('% test false abnormals for (0):', ((2113+2390+1396+484)/(2113+2390+1396+484+11735))*100)\n",
        "print('% test false normals for (1):', ((128)/(128+368+33+19+8))*100)\n",
        "print('% test false normals for (2):', ((141)/(141+54+1049+154+50))*100)\n",
        "print('% test false normals for (3):', ((11)/(11+9+142))*100)\n",
        "print('% test false normals for (4):', ((47)/(47+6+73+13+1469))*100)"
      ],
      "metadata": {
        "id": "icV6LetB10XT",
        "colab": {
          "base_uri": "https://localhost:8080/"
        },
        "outputId": "6e04d6d4-b745-4740-8428-08dc511f1ce6"
      },
      "execution_count": null,
      "outputs": [
        {
          "output_type": "stream",
          "name": "stdout",
          "text": [
            "% test false abnormals for (0): 35.23015785406778\n",
            "% test false normals for (1): 23.021582733812952\n",
            "% test false normals for (2): 9.737569060773481\n",
            "% test false normals for (3): 6.790123456790123\n",
            "% test false normals for (4): 2.9228855721393034\n"
          ]
        }
      ]
    },
    {
      "cell_type": "markdown",
      "source": [
        "Implementing class weights greatly increased the percent of normal heartbeats misdiagnosed as abnormal - the frequency of occurence jumped from 0.5% to over 35%. However, it also reduced the occurence of false negatives, from 33% to 23% for type (1) and from 26% to 6% for type (3)."
      ],
      "metadata": {
        "id": "fHmIo1oo7ZDY"
      }
    },
    {
      "cell_type": "markdown",
      "source": [
        "**Neural network**"
      ],
      "metadata": {
        "id": "ck_t4gL6DGnR"
      }
    },
    {
      "cell_type": "code",
      "source": [
        "#imports for neural networks\n",
        "import tensorflow as tf"
      ],
      "metadata": {
        "id": "RWl6w5krCOXt"
      },
      "execution_count": null,
      "outputs": []
    },
    {
      "cell_type": "code",
      "source": [
        "x_train = training_data.drop(['Label'],axis=1)\n",
        "y_train = training_data['Label']\n",
        "\n",
        "x_test = test_data.drop(['Label'],axis=1)\n",
        "y_test = test_data['Label']\n",
        "\n",
        "#Change data and labels to TF tensors - 1D tensor constants\n",
        "X_train = tf.constant(x_train)\n",
        "Y_train = tf.constant(y_train)\n",
        "X_test = tf.constant(x_test)\n",
        "Y_test = tf.constant(y_test)"
      ],
      "metadata": {
        "id": "C1u8AHt6CzEt"
      },
      "execution_count": null,
      "outputs": []
    },
    {
      "cell_type": "code",
      "source": [
        "!pip install torcheval"
      ],
      "metadata": {
        "id": "O-F6NNGOAtUW",
        "colab": {
          "base_uri": "https://localhost:8080/"
        },
        "outputId": "020d540f-8e98-4f91-9365-2ae16011e65e"
      },
      "execution_count": null,
      "outputs": [
        {
          "output_type": "stream",
          "name": "stdout",
          "text": [
            "Collecting torcheval\n",
            "  Downloading torcheval-0.0.7-py3-none-any.whl.metadata (8.6 kB)\n",
            "Requirement already satisfied: typing-extensions in /usr/local/lib/python3.10/dist-packages (from torcheval) (4.12.2)\n",
            "Downloading torcheval-0.0.7-py3-none-any.whl (179 kB)\n",
            "\u001b[?25l   \u001b[90m━━━━━━━━━━━━━━━━━━━━━━━━━━━━━━━━━━━━━━━━\u001b[0m \u001b[32m0.0/179.2 kB\u001b[0m \u001b[31m?\u001b[0m eta \u001b[36m-:--:--\u001b[0m\r\u001b[2K   \u001b[90m━━━━━━━━━━━━━━━━━━━━━━━━━━━━━━━━━━━━━━━━\u001b[0m \u001b[32m179.2/179.2 kB\u001b[0m \u001b[31m6.0 MB/s\u001b[0m eta \u001b[36m0:00:00\u001b[0m\n",
            "\u001b[?25hInstalling collected packages: torcheval\n",
            "Successfully installed torcheval-0.0.7\n"
          ]
        }
      ]
    },
    {
      "cell_type": "markdown",
      "source": [
        "**Convolutional Neural Network**"
      ],
      "metadata": {
        "id": "Sh_nGcxSPVx3"
      }
    },
    {
      "cell_type": "code",
      "source": [
        "import numpy as np\n",
        "import tensorflow as tf\n",
        "from tensorflow.keras.models import Sequential\n",
        "from tensorflow.keras.layers import Conv1D, MaxPooling1D, Flatten, Dense, Dropout, BatchNormalization, Input\n",
        "from tensorflow.keras.utils import to_categorical\n",
        "from sklearn.preprocessing import LabelEncoder\n",
        "from tensorflow.keras import backend as K\n",
        "\n",
        "x_train = training_data.drop(['Label'], axis=1)\n",
        "y_train = training_data['Label']\n",
        "\n",
        "x_test = test_data.drop(['Label'], axis=1)\n",
        "y_test = test_data['Label']\n",
        "\n",
        "label_encoder = LabelEncoder()\n",
        "y_train_encoded = label_encoder.fit_transform(y_train)\n",
        "y_test_encoded = label_encoder.transform(y_test)\n",
        "\n",
        "y_train_categorical = to_categorical(y_train_encoded)\n",
        "y_test_categorical = to_categorical(y_test_encoded)\n",
        "\n",
        "x_train_reshaped = np.expand_dims(x_train.values, axis=2)\n",
        "x_test_reshaped = np.expand_dims(x_test.values, axis=2)\n",
        "\n",
        "def recall_m(y_true, y_pred):\n",
        "    true_positives = K.sum(K.round(K.clip(y_true * y_pred, 0, 1)))\n",
        "    possible_positives = K.sum(K.round(K.clip(y_true, 0, 1)))\n",
        "    recall = true_positives / (possible_positives + K.epsilon())\n",
        "    return recall\n",
        "\n",
        "def precision_m(y_true, y_pred):\n",
        "    true_positives = K.sum(K.round(K.clip(y_true * y_pred, 0, 1)))\n",
        "    predicted_positives = K.sum(K.round(K.clip(y_pred, 0, 1)))\n",
        "    precision = true_positives / (predicted_positives + K.epsilon())\n",
        "    return precision\n",
        "\n",
        "def f1_m(y_true, y_pred):\n",
        "    precision = precision_m(y_true, y_pred)\n",
        "    recall = recall_m(y_true, y_pred)\n",
        "    return 2 * ((precision * recall) / (precision + recall + K.epsilon()))\n",
        "\n",
        "model = Sequential([\n",
        "    Input(shape=(x_train_reshaped.shape[1], 1)),\n",
        "    Conv1D(64, 3, activation='relu'),\n",
        "    BatchNormalization(),\n",
        "    MaxPooling1D(2),\n",
        "    Dropout(0.25),\n",
        "    Conv1D(128, 3, activation='relu'),\n",
        "    BatchNormalization(),\n",
        "    MaxPooling1D(2),\n",
        "    Dropout(0.25),\n",
        "    Flatten(),\n",
        "    Dense(128, activation='relu'),\n",
        "    Dropout(0.5),\n",
        "    Dense(5, activation='softmax')\n",
        "])\n",
        "\n",
        "model.compile(loss='categorical_crossentropy', optimizer='adam', metrics=['accuracy', f1_m, precision_m, recall_m])\n",
        "\n",
        "history = model.fit(x_train_reshaped, y_train_categorical, epochs=25, batch_size=32, validation_data=(x_test_reshaped, y_test_categorical))\n"
      ],
      "metadata": {
        "id": "jKhXgnuZXzlE",
        "colab": {
          "base_uri": "https://localhost:8080/"
        },
        "outputId": "c42c025f-64cf-4e57-c1c0-95632f452bcf"
      },
      "execution_count": null,
      "outputs": [
        {
          "output_type": "stream",
          "name": "stdout",
          "text": [
            "Epoch 1/25\n",
            "\u001b[1m2737/2737\u001b[0m \u001b[32m━━━━━━━━━━━━━━━━━━━━\u001b[0m\u001b[37m\u001b[0m \u001b[1m37s\u001b[0m 8ms/step - accuracy: 0.9000 - f1_m: 0.8976 - loss: 0.4147 - precision_m: 0.9135 - recall_m: 0.8829 - val_accuracy: 0.9479 - val_f1_m: 0.9472 - val_loss: 0.1783 - val_precision_m: 0.9482 - val_recall_m: 0.9462\n",
            "Epoch 2/25\n",
            "\u001b[1m2737/2737\u001b[0m \u001b[32m━━━━━━━━━━━━━━━━━━━━\u001b[0m\u001b[37m\u001b[0m \u001b[1m16s\u001b[0m 6ms/step - accuracy: 0.9515 - f1_m: 0.9510 - loss: 0.1779 - precision_m: 0.9569 - recall_m: 0.9454 - val_accuracy: 0.9700 - val_f1_m: 0.9692 - val_loss: 0.1060 - val_precision_m: 0.9715 - val_recall_m: 0.9669\n",
            "Epoch 3/25\n",
            "\u001b[1m2737/2737\u001b[0m \u001b[32m━━━━━━━━━━━━━━━━━━━━\u001b[0m\u001b[37m\u001b[0m \u001b[1m10s\u001b[0m 4ms/step - accuracy: 0.9606 - f1_m: 0.9608 - loss: 0.1435 - precision_m: 0.9644 - recall_m: 0.9573 - val_accuracy: 0.9725 - val_f1_m: 0.9728 - val_loss: 0.1022 - val_precision_m: 0.9742 - val_recall_m: 0.9714\n",
            "Epoch 4/25\n",
            "\u001b[1m2737/2737\u001b[0m \u001b[32m━━━━━━━━━━━━━━━━━━━━\u001b[0m\u001b[37m\u001b[0m \u001b[1m10s\u001b[0m 3ms/step - accuracy: 0.9649 - f1_m: 0.9650 - loss: 0.1292 - precision_m: 0.9677 - recall_m: 0.9624 - val_accuracy: 0.9735 - val_f1_m: 0.9730 - val_loss: 0.1029 - val_precision_m: 0.9751 - val_recall_m: 0.9711\n",
            "Epoch 5/25\n",
            "\u001b[1m2737/2737\u001b[0m \u001b[32m━━━━━━━━━━━━━━━━━━━━\u001b[0m\u001b[37m\u001b[0m \u001b[1m11s\u001b[0m 4ms/step - accuracy: 0.9675 - f1_m: 0.9675 - loss: 0.1184 - precision_m: 0.9696 - recall_m: 0.9654 - val_accuracy: 0.9767 - val_f1_m: 0.9767 - val_loss: 0.0928 - val_precision_m: 0.9774 - val_recall_m: 0.9759\n",
            "Epoch 6/25\n",
            "\u001b[1m2737/2737\u001b[0m \u001b[32m━━━━━━━━━━━━━━━━━━━━\u001b[0m\u001b[37m\u001b[0m \u001b[1m11s\u001b[0m 4ms/step - accuracy: 0.9706 - f1_m: 0.9704 - loss: 0.1093 - precision_m: 0.9720 - recall_m: 0.9689 - val_accuracy: 0.9757 - val_f1_m: 0.9755 - val_loss: 0.0915 - val_precision_m: 0.9765 - val_recall_m: 0.9745\n",
            "Epoch 7/25\n",
            "\u001b[1m2737/2737\u001b[0m \u001b[32m━━━━━━━━━━━━━━━━━━━━\u001b[0m\u001b[37m\u001b[0m \u001b[1m19s\u001b[0m 3ms/step - accuracy: 0.9719 - f1_m: 0.9720 - loss: 0.0999 - precision_m: 0.9733 - recall_m: 0.9708 - val_accuracy: 0.9754 - val_f1_m: 0.9756 - val_loss: 0.1044 - val_precision_m: 0.9762 - val_recall_m: 0.9749\n",
            "Epoch 8/25\n",
            "\u001b[1m2737/2737\u001b[0m \u001b[32m━━━━━━━━━━━━━━━━━━━━\u001b[0m\u001b[37m\u001b[0m \u001b[1m11s\u001b[0m 4ms/step - accuracy: 0.9742 - f1_m: 0.9742 - loss: 0.0944 - precision_m: 0.9758 - recall_m: 0.9727 - val_accuracy: 0.9765 - val_f1_m: 0.9766 - val_loss: 0.0893 - val_precision_m: 0.9778 - val_recall_m: 0.9755\n",
            "Epoch 9/25\n",
            "\u001b[1m2737/2737\u001b[0m \u001b[32m━━━━━━━━━━━━━━━━━━━━\u001b[0m\u001b[37m\u001b[0m \u001b[1m11s\u001b[0m 4ms/step - accuracy: 0.9753 - f1_m: 0.9755 - loss: 0.0908 - precision_m: 0.9767 - recall_m: 0.9744 - val_accuracy: 0.9791 - val_f1_m: 0.9791 - val_loss: 0.0806 - val_precision_m: 0.9799 - val_recall_m: 0.9782\n",
            "Epoch 10/25\n",
            "\u001b[1m2737/2737\u001b[0m \u001b[32m━━━━━━━━━━━━━━━━━━━━\u001b[0m\u001b[37m\u001b[0m \u001b[1m11s\u001b[0m 4ms/step - accuracy: 0.9744 - f1_m: 0.9744 - loss: 0.0906 - precision_m: 0.9757 - recall_m: 0.9732 - val_accuracy: 0.9785 - val_f1_m: 0.9786 - val_loss: 0.0800 - val_precision_m: 0.9794 - val_recall_m: 0.9779\n",
            "Epoch 11/25\n",
            "\u001b[1m2737/2737\u001b[0m \u001b[32m━━━━━━━━━━━━━━━━━━━━\u001b[0m\u001b[37m\u001b[0m \u001b[1m20s\u001b[0m 4ms/step - accuracy: 0.9760 - f1_m: 0.9759 - loss: 0.0857 - precision_m: 0.9774 - recall_m: 0.9744 - val_accuracy: 0.9742 - val_f1_m: 0.9741 - val_loss: 0.1005 - val_precision_m: 0.9752 - val_recall_m: 0.9731\n",
            "Epoch 12/25\n",
            "\u001b[1m2737/2737\u001b[0m \u001b[32m━━━━━━━━━━━━━━━━━━━━\u001b[0m\u001b[37m\u001b[0m \u001b[1m11s\u001b[0m 4ms/step - accuracy: 0.9770 - f1_m: 0.9769 - loss: 0.0827 - precision_m: 0.9781 - recall_m: 0.9758 - val_accuracy: 0.9760 - val_f1_m: 0.9759 - val_loss: 0.0919 - val_precision_m: 0.9767 - val_recall_m: 0.9751\n",
            "Epoch 13/25\n",
            "\u001b[1m2737/2737\u001b[0m \u001b[32m━━━━━━━━━━━━━━━━━━━━\u001b[0m\u001b[37m\u001b[0m \u001b[1m21s\u001b[0m 4ms/step - accuracy: 0.9760 - f1_m: 0.9762 - loss: 0.0847 - precision_m: 0.9774 - recall_m: 0.9750 - val_accuracy: 0.9798 - val_f1_m: 0.9798 - val_loss: 0.0785 - val_precision_m: 0.9806 - val_recall_m: 0.9791\n",
            "Epoch 14/25\n",
            "\u001b[1m2737/2737\u001b[0m \u001b[32m━━━━━━━━━━━━━━━━━━━━\u001b[0m\u001b[37m\u001b[0m \u001b[1m9s\u001b[0m 3ms/step - accuracy: 0.9765 - f1_m: 0.9766 - loss: 0.0820 - precision_m: 0.9779 - recall_m: 0.9753 - val_accuracy: 0.9758 - val_f1_m: 0.9755 - val_loss: 0.0984 - val_precision_m: 0.9769 - val_recall_m: 0.9741\n",
            "Epoch 15/25\n",
            "\u001b[1m2737/2737\u001b[0m \u001b[32m━━━━━━━━━━━━━━━━━━━━\u001b[0m\u001b[37m\u001b[0m \u001b[1m11s\u001b[0m 4ms/step - accuracy: 0.9784 - f1_m: 0.9784 - loss: 0.0768 - precision_m: 0.9794 - recall_m: 0.9774 - val_accuracy: 0.9815 - val_f1_m: 0.9816 - val_loss: 0.0731 - val_precision_m: 0.9820 - val_recall_m: 0.9811\n",
            "Epoch 16/25\n",
            "\u001b[1m2737/2737\u001b[0m \u001b[32m━━━━━━━━━━━━━━━━━━━━\u001b[0m\u001b[37m\u001b[0m \u001b[1m11s\u001b[0m 4ms/step - accuracy: 0.9777 - f1_m: 0.9781 - loss: 0.0776 - precision_m: 0.9792 - recall_m: 0.9770 - val_accuracy: 0.9777 - val_f1_m: 0.9779 - val_loss: 0.0876 - val_precision_m: 0.9787 - val_recall_m: 0.9771\n",
            "Epoch 17/25\n",
            "\u001b[1m2737/2737\u001b[0m \u001b[32m━━━━━━━━━━━━━━━━━━━━\u001b[0m\u001b[37m\u001b[0m \u001b[1m21s\u001b[0m 4ms/step - accuracy: 0.9802 - f1_m: 0.9801 - loss: 0.0723 - precision_m: 0.9811 - recall_m: 0.9792 - val_accuracy: 0.9773 - val_f1_m: 0.9776 - val_loss: 0.0960 - val_precision_m: 0.9782 - val_recall_m: 0.9770\n",
            "Epoch 18/25\n",
            "\u001b[1m2737/2737\u001b[0m \u001b[32m━━━━━━━━━━━━━━━━━━━━\u001b[0m\u001b[37m\u001b[0m \u001b[1m20s\u001b[0m 4ms/step - accuracy: 0.9804 - f1_m: 0.9804 - loss: 0.0693 - precision_m: 0.9812 - recall_m: 0.9797 - val_accuracy: 0.9803 - val_f1_m: 0.9803 - val_loss: 0.0895 - val_precision_m: 0.9806 - val_recall_m: 0.9800\n",
            "Epoch 19/25\n",
            "\u001b[1m2737/2737\u001b[0m \u001b[32m━━━━━━━━━━━━━━━━━━━━\u001b[0m\u001b[37m\u001b[0m \u001b[1m11s\u001b[0m 4ms/step - accuracy: 0.9795 - f1_m: 0.9793 - loss: 0.0738 - precision_m: 0.9803 - recall_m: 0.9784 - val_accuracy: 0.9822 - val_f1_m: 0.9824 - val_loss: 0.0709 - val_precision_m: 0.9828 - val_recall_m: 0.9820\n",
            "Epoch 20/25\n",
            "\u001b[1m2737/2737\u001b[0m \u001b[32m━━━━━━━━━━━━━━━━━━━━\u001b[0m\u001b[37m\u001b[0m \u001b[1m19s\u001b[0m 4ms/step - accuracy: 0.9793 - f1_m: 0.9794 - loss: 0.0754 - precision_m: 0.9804 - recall_m: 0.9784 - val_accuracy: 0.9798 - val_f1_m: 0.9797 - val_loss: 0.0773 - val_precision_m: 0.9807 - val_recall_m: 0.9788\n",
            "Epoch 21/25\n",
            "\u001b[1m2737/2737\u001b[0m \u001b[32m━━━━━━━━━━━━━━━━━━━━\u001b[0m\u001b[37m\u001b[0m \u001b[1m10s\u001b[0m 4ms/step - accuracy: 0.9812 - f1_m: 0.9811 - loss: 0.0672 - precision_m: 0.9821 - recall_m: 0.9801 - val_accuracy: 0.9828 - val_f1_m: 0.9827 - val_loss: 0.0732 - val_precision_m: 0.9832 - val_recall_m: 0.9823\n",
            "Epoch 22/25\n",
            "\u001b[1m2737/2737\u001b[0m \u001b[32m━━━━━━━━━━━━━━━━━━━━\u001b[0m\u001b[37m\u001b[0m \u001b[1m11s\u001b[0m 4ms/step - accuracy: 0.9794 - f1_m: 0.9793 - loss: 0.0712 - precision_m: 0.9803 - recall_m: 0.9783 - val_accuracy: 0.9815 - val_f1_m: 0.9814 - val_loss: 0.0852 - val_precision_m: 0.9820 - val_recall_m: 0.9807\n",
            "Epoch 23/25\n",
            "\u001b[1m2737/2737\u001b[0m \u001b[32m━━━━━━━━━━━━━━━━━━━━\u001b[0m\u001b[37m\u001b[0m \u001b[1m21s\u001b[0m 4ms/step - accuracy: 0.9804 - f1_m: 0.9804 - loss: 0.0685 - precision_m: 0.9813 - recall_m: 0.9796 - val_accuracy: 0.9683 - val_f1_m: 0.9686 - val_loss: 0.1072 - val_precision_m: 0.9692 - val_recall_m: 0.9679\n",
            "Epoch 24/25\n",
            "\u001b[1m2737/2737\u001b[0m \u001b[32m━━━━━━━━━━━━━━━━━━━━\u001b[0m\u001b[37m\u001b[0m \u001b[1m20s\u001b[0m 4ms/step - accuracy: 0.9804 - f1_m: 0.9803 - loss: 0.0698 - precision_m: 0.9811 - recall_m: 0.9795 - val_accuracy: 0.9810 - val_f1_m: 0.9811 - val_loss: 0.0810 - val_precision_m: 0.9815 - val_recall_m: 0.9807\n",
            "Epoch 25/25\n",
            "\u001b[1m2737/2737\u001b[0m \u001b[32m━━━━━━━━━━━━━━━━━━━━\u001b[0m\u001b[37m\u001b[0m \u001b[1m20s\u001b[0m 4ms/step - accuracy: 0.9822 - f1_m: 0.9823 - loss: 0.0658 - precision_m: 0.9832 - recall_m: 0.9814 - val_accuracy: 0.9812 - val_f1_m: 0.9812 - val_loss: 0.0729 - val_precision_m: 0.9815 - val_recall_m: 0.9809\n"
          ]
        }
      ]
    },
    {
      "cell_type": "code",
      "source": [
        "training_loss = history.history['loss']\n",
        "valid_loss = history.history['val_loss']\n",
        "\n",
        "epoch_count = range(1, 26)\n",
        "\n",
        "plt.plot(epoch_count, training_loss, 'r--')\n",
        "plt.plot(epoch_count, valid_loss, 'b-')\n",
        "plt.legend(['Training Loss', 'Validation Loss'])\n",
        "plt.xlabel('Epoch')\n",
        "plt.ylabel('Loss')\n",
        "plt.show();"
      ],
      "metadata": {
        "id": "MdXxccsypjAi",
        "colab": {
          "base_uri": "https://localhost:8080/",
          "height": 449
        },
        "outputId": "d39228a9-82dd-439a-a7a2-018e0aa0e8ce"
      },
      "execution_count": null,
      "outputs": [
        {
          "output_type": "display_data",
          "data": {
            "text/plain": [
              "<Figure size 640x480 with 1 Axes>"
            ],
            "image/png": "[encoded data removed]"
          },
          "metadata": {}
        }
      ]
    },
    {
      "cell_type": "code",
      "source": [
        "\n",
        "import matplotlib.pyplot as plt\n",
        "training_loss = history.history['loss'][:16]\n",
        "valid_loss = history.history['val_loss'][:16]\n",
        "\n",
        "epoch_count = range(1, 17)\n",
        "\n",
        "plt.plot(epoch_count, training_loss, 'r--')\n",
        "plt.plot(epoch_count, valid_loss, 'b-')\n",
        "plt.legend(['Training Loss', 'Validation Loss'])\n",
        "plt.title('Loss vs. Epochs')\n",
        "plt.xlabel('Epoch')\n",
        "plt.ylabel('Loss')\n",
        "plt.show();\n"
      ],
      "metadata": {
        "colab": {
          "base_uri": "https://localhost:8080/",
          "height": 472
        },
        "id": "b1HE6xFf-gpf",
        "outputId": "94b8c561-9c29-4d65-8c32-386668aeee8f"
      },
      "execution_count": null,
      "outputs": [
        {
          "output_type": "display_data",
          "data": {
            "text/plain": [
              "<Figure size 640x480 with 1 Axes>"
            ],
            "image/png": "[encoded data removed]"
          },
          "metadata": {}
        }
      ]
    },
    {
      "cell_type": "code",
      "source": [
        "import matplotlib.pyplot as plt\n",
        "plt.plot(history.history['accuracy'])\n",
        "plt.plot(history.history['val_accuracy'])\n",
        "plt.title('model accuracy')\n",
        "plt.ylabel('accuracy')\n",
        "plt.xlabel('epoch')\n",
        "plt.legend(['train', 'test'], loc='upper left')\n",
        "plt.show()\n"
      ],
      "metadata": {
        "colab": {
          "base_uri": "https://localhost:8080/",
          "height": 472
        },
        "id": "CY1Vb7AW-zD_",
        "outputId": "21ca4cfd-96e1-47cd-e5ec-2deacbe5b22b"
      },
      "execution_count": null,
      "outputs": [
        {
          "output_type": "display_data",
          "data": {
            "text/plain": [
              "<Figure size 640x480 with 1 Axes>"
            ],
            "image/png": "[encoded data removed]"
          },
          "metadata": {}
        }
      ]
    },
    {
      "cell_type": "code",
      "source": [
        "import matplotlib.pyplot as plt\n",
        "plt.plot(history.history['accuracy'][:15])\n",
        "plt.plot(history.history['val_accuracy'][:15])\n",
        "plt.title('Accuracy vs. Epochs')\n",
        "plt.ylabel('accuracy (%)')\n",
        "plt.xlabel('epoch')\n",
        "plt.legend(['train', 'validation'], loc='upper left')\n",
        "plt.show()\n"
      ],
      "metadata": {
        "colab": {
          "base_uri": "https://localhost:8080/",
          "height": 472
        },
        "id": "-LBZr_AJAtNb",
        "outputId": "ad75eb1f-dd56-478d-c5f2-453bcc67380f"
      },
      "execution_count": null,
      "outputs": [
        {
          "output_type": "display_data",
          "data": {
            "text/plain": [
              "<Figure size 640x480 with 1 Axes>"
            ],
            "image/png": "[encoded data removed]"
          },
          "metadata": {}
        }
      ]
    },
    {
      "cell_type": "code",
      "source": [
        "%run /content/drive/MyDrive/Colab_Notebooks/draw_convnet.py"
      ],
      "metadata": {
        "id": "DJTPsH1rIwSt",
        "colab": {
          "base_uri": "https://localhost:8080/",
          "height": 318
        },
        "outputId": "7c04e283-93c6-47c0-9d43-eabe4cbd96b1"
      },
      "execution_count": null,
      "outputs": [
        {
          "output_type": "stream",
          "name": "stderr",
          "text": [
            "/content/drive/MyDrive/Colab_Notebooks/draw_convnet.py:122: UserWarning: Tight layout not applied. The left and right margins cannot be made large enough to accommodate all axes decorations.\n",
            "  plt.tight_layout()\n"
          ]
        },
        {
          "output_type": "display_data",
          "data": {
            "text/plain": [
              "<Figure size 3000x500 with 1 Axes>"
            ],
            "image/png": "[encoded data removed]"
          },
          "metadata": {}
        },
        {
          "output_type": "display_data",
          "data": {
            "text/plain": [
              "<Figure size 640x480 with 0 Axes>"
            ]
          },
          "metadata": {}
        }
      ]
    },
    {
      "cell_type": "code",
      "source": [
        "# # Evaluate the model using the one-hot encoded test labels\n",
        "# loss, accuracy, f1_score, precision, recall = model.evaluate(X_test_reshaped, y_test_categorical, verbose=0)\n",
        "# print('Accuracy: %f' % accuracy)\n",
        "# print('Precision: %f' % precision)\n",
        "# print('Recall: %f' % recall)\n",
        "# print('F1 score: %f' % f1_score)\n"
      ],
      "metadata": {
        "id": "6CUCpX-CbaEn"
      },
      "execution_count": null,
      "outputs": []
    },
    {
      "cell_type": "code",
      "source": [
        "from sklearn.metrics import confusion_matrix, classification_report\n",
        "import matplotlib.pyplot as plt\n",
        "import seaborn as sns\n",
        "\n",
        "# Make predictions\n",
        "y_pred = model.predict(x_test_reshaped)\n",
        "\n",
        "# Convert predictions and true labels from one-hot encoded to label form\n",
        "y_pred_classes = np.argmax(y_pred, axis=1)\n",
        "y_true = np.argmax(y_test_categorical, axis=1)\n",
        "\n",
        "# Generate confusion matrix\n",
        "conf_matrix = confusion_matrix(y_true, y_pred_classes)\n",
        "\n",
        "# Plotting the confusion matrix\n",
        "plt.figure(figsize=(10, 8))\n",
        "sns.heatmap(conf_matrix, annot=True, fmt='d', cmap='Blues', xticklabels=label_encoder.classes_, yticklabels=label_encoder.classes_)\n",
        "plt.xlabel('Predicted')\n",
        "plt.ylabel('Actual')\n",
        "plt.title('Confusion Matrix')\n",
        "plt.show()\n",
        "\n",
        "target_names = [str(label) for label in label_encoder.classes_]\n",
        "\n",
        "# Print classification report\n",
        "print(classification_report(y_true, y_pred_classes, target_names=target_names))"
      ],
      "metadata": {
        "id": "xTx26E2O-xDy",
        "colab": {
          "base_uri": "https://localhost:8080/",
          "height": 950
        },
        "outputId": "739f8460-a5fe-4403-ae46-ac4d939d160c"
      },
      "execution_count": null,
      "outputs": [
        {
          "output_type": "stream",
          "name": "stdout",
          "text": [
            "\u001b[1m685/685\u001b[0m \u001b[32m━━━━━━━━━━━━━━━━━━━━\u001b[0m\u001b[37m\u001b[0m \u001b[1m2s\u001b[0m 3ms/step\n"
          ]
        },
        {
          "output_type": "display_data",
          "data": {
            "text/plain": [
              "<Figure size 1000x800 with 2 Axes>"
            ],
            "image/png": "[encoded data removed]"
          },
          "metadata": {}
        },
        {
          "output_type": "stream",
          "name": "stdout",
          "text": [
            "              precision    recall  f1-score   support\n",
            "\n",
            "         0.0       0.98      1.00      0.99     18118\n",
            "         1.0       0.95      0.69      0.80       556\n",
            "         2.0       0.97      0.93      0.95      1448\n",
            "         3.0       0.87      0.61      0.72       162\n",
            "         4.0       1.00      0.97      0.98      1608\n",
            "\n",
            "    accuracy                           0.98     21892\n",
            "   macro avg       0.95      0.84      0.89     21892\n",
            "weighted avg       0.98      0.98      0.98     21892\n",
            "\n"
          ]
        }
      ]
    },
    {
      "cell_type": "code",
      "source": [
        "import matplotlib.pyplot as plt\n",
        "import numpy as np\n",
        "\n",
        "y_pred = model.predict(x_test_reshaped)\n",
        "\n",
        "y_pred_classes = np.argmax(y_pred, axis=1)\n",
        "y_true = np.argmax(y_test_categorical, axis=1)\n",
        "\n",
        "conf_matrix = confusion_matrix(y_true, y_pred_classes)\n",
        "\n",
        "conf_matrix_norm = conf_matrix.astype('float') / conf_matrix.sum(axis=1)[:, np.newaxis]\n",
        "\n",
        "plt.figure(figsize=(10, 8))\n",
        "sns.heatmap(conf_matrix_norm, annot=True, fmt='.2%', cmap='Blues', xticklabels=label_encoder.classes_, yticklabels=label_encoder.classes_, annot_kws={\"size\": 24})\n",
        "plt.xlabel('Predicted')\n",
        "plt.ylabel('Actual')\n",
        "plt.title('Confusion Matrix (Percentages)')\n",
        "plt.show()\n",
        "\n"
      ],
      "metadata": {
        "id": "vdAz82z_9dJJ",
        "colab": {
          "base_uri": "https://localhost:8080/",
          "height": 736
        },
        "outputId": "dbaa40a2-7ffa-4f49-c20a-6cef395c82da"
      },
      "execution_count": null,
      "outputs": [
        {
          "output_type": "stream",
          "name": "stdout",
          "text": [
            "\u001b[1m685/685\u001b[0m \u001b[32m━━━━━━━━━━━━━━━━━━━━\u001b[0m\u001b[37m\u001b[0m \u001b[1m1s\u001b[0m 1ms/step\n"
          ]
        },
        {
          "output_type": "display_data",
          "data": {
            "text/plain": [
              "<Figure size 1000x800 with 2 Axes>"
            ],
            "image/png": "[encoded data removed]"
          },
          "metadata": {}
        }
      ]
    },
    {
      "cell_type": "code",
      "source": [],
      "metadata": {
        "id": "QGwnbNXoCabE"
      },
      "execution_count": null,
      "outputs": []
    }
  ]
}